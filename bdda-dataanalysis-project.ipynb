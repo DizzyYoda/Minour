{
 "cells": [
  {
   "cell_type": "code",
   "execution_count": 1,
   "id": "6d684b81",
   "metadata": {
    "_cell_guid": "b1076dfc-b9ad-4769-8c92-a6c4dae69d19",
    "_uuid": "8f2839f25d086af736a60e9eeb907d3b93b6e0e5",
    "execution": {
     "iopub.execute_input": "2023-11-30T11:15:52.986654Z",
     "iopub.status.busy": "2023-11-30T11:15:52.985953Z",
     "iopub.status.idle": "2023-11-30T11:15:57.075300Z",
     "shell.execute_reply": "2023-11-30T11:15:57.074367Z"
    },
    "papermill": {
     "duration": 4.104564,
     "end_time": "2023-11-30T11:15:57.077113",
     "exception": false,
     "start_time": "2023-11-30T11:15:52.972549",
     "status": "completed"
    },
    "tags": []
   },
   "outputs": [
    {
     "name": "stdout",
     "output_type": "stream",
     "text": [
      "/kaggle/input/healthcare-investments-and-length-of-hospital-stay/Healthcare_Investments_and_Hospital_Stay (1).csv\n"
     ]
    }
   ],
   "source": [
    "import numpy as np\n",
    "import pandas as pd \n",
    "import matplotlib.pyplot as plt  \n",
    "import seaborn as sns\n",
    "import plotly.express as px\n",
    "from sklearn.model_selection import train_test_split\n",
    "from sklearn.preprocessing import StandardScaler\n",
    "from sklearn.metrics import confusion_matrix\n",
    "from sklearn.linear_model import LinearRegression\n",
    "from sklearn.neighbors import KNeighborsRegressor\n",
    "from sklearn.tree import DecisionTreeRegressor\n",
    "from sklearn.ensemble import RandomForestRegressor, GradientBoostingRegressor\n",
    "from xgboost import XGBRegressor\n",
    "import os\n",
    "for dirname, _, filenames in os.walk('/kaggle/input'):\n",
    "    for filename in filenames:\n",
    "        print(os.path.join(dirname, filename))"
   ]
  },
  {
   "cell_type": "code",
   "execution_count": 2,
   "id": "f0c3077d",
   "metadata": {
    "execution": {
     "iopub.execute_input": "2023-11-30T11:15:57.104285Z",
     "iopub.status.busy": "2023-11-30T11:15:57.102258Z",
     "iopub.status.idle": "2023-11-30T11:16:08.901945Z",
     "shell.execute_reply": "2023-11-30T11:16:08.900670Z"
    },
    "papermill": {
     "duration": 11.816783,
     "end_time": "2023-11-30T11:16:08.904624",
     "exception": false,
     "start_time": "2023-11-30T11:15:57.087841",
     "status": "completed"
    },
    "tags": []
   },
   "outputs": [
    {
     "name": "stdout",
     "output_type": "stream",
     "text": [
      "Collecting pmdarima\r\n",
      "  Downloading pmdarima-2.0.4-cp310-cp310-manylinux_2_17_x86_64.manylinux2014_x86_64.manylinux_2_28_x86_64.whl (2.1 MB)\r\n",
      "\u001b[2K     \u001b[90m━━━━━━━━━━━━━━━━━━━━━━━━━━━━━━━━━━━━━━━━\u001b[0m \u001b[32m2.1/2.1 MB\u001b[0m \u001b[31m28.6 MB/s\u001b[0m eta \u001b[36m0:00:00\u001b[0m\r\n",
      "\u001b[?25hRequirement already satisfied: joblib>=0.11 in /opt/conda/lib/python3.10/site-packages (from pmdarima) (1.3.2)\r\n",
      "Requirement already satisfied: Cython!=0.29.18,!=0.29.31,>=0.29 in /opt/conda/lib/python3.10/site-packages (from pmdarima) (0.29.35)\r\n",
      "Requirement already satisfied: numpy>=1.21.2 in /opt/conda/lib/python3.10/site-packages (from pmdarima) (1.23.5)\r\n",
      "Requirement already satisfied: pandas>=0.19 in /opt/conda/lib/python3.10/site-packages (from pmdarima) (2.0.3)\r\n",
      "Requirement already satisfied: scikit-learn>=0.22 in /opt/conda/lib/python3.10/site-packages (from pmdarima) (1.2.2)\r\n",
      "Requirement already satisfied: scipy>=1.3.2 in /opt/conda/lib/python3.10/site-packages (from pmdarima) (1.11.2)\r\n",
      "Requirement already satisfied: statsmodels>=0.13.2 in /opt/conda/lib/python3.10/site-packages (from pmdarima) (0.14.0)\r\n",
      "Requirement already satisfied: urllib3 in /opt/conda/lib/python3.10/site-packages (from pmdarima) (1.26.15)\r\n",
      "Requirement already satisfied: setuptools!=50.0.0,>=38.6.0 in /opt/conda/lib/python3.10/site-packages (from pmdarima) (68.0.0)\r\n",
      "Requirement already satisfied: packaging>=17.1 in /opt/conda/lib/python3.10/site-packages (from pmdarima) (21.3)\r\n",
      "Requirement already satisfied: pyparsing!=3.0.5,>=2.0.2 in /opt/conda/lib/python3.10/site-packages (from packaging>=17.1->pmdarima) (3.0.9)\r\n",
      "Requirement already satisfied: python-dateutil>=2.8.2 in /opt/conda/lib/python3.10/site-packages (from pandas>=0.19->pmdarima) (2.8.2)\r\n",
      "Requirement already satisfied: pytz>=2020.1 in /opt/conda/lib/python3.10/site-packages (from pandas>=0.19->pmdarima) (2023.3)\r\n",
      "Requirement already satisfied: tzdata>=2022.1 in /opt/conda/lib/python3.10/site-packages (from pandas>=0.19->pmdarima) (2023.3)\r\n",
      "Requirement already satisfied: threadpoolctl>=2.0.0 in /opt/conda/lib/python3.10/site-packages (from scikit-learn>=0.22->pmdarima) (3.1.0)\r\n",
      "Requirement already satisfied: patsy>=0.5.2 in /opt/conda/lib/python3.10/site-packages (from statsmodels>=0.13.2->pmdarima) (0.5.3)\r\n",
      "Requirement already satisfied: six in /opt/conda/lib/python3.10/site-packages (from patsy>=0.5.2->statsmodels>=0.13.2->pmdarima) (1.16.0)\r\n",
      "Installing collected packages: pmdarima\r\n",
      "Successfully installed pmdarima-2.0.4\r\n"
     ]
    }
   ],
   "source": [
    "!pip install pmdarima"
   ]
  },
  {
   "cell_type": "code",
   "execution_count": 3,
   "id": "1e6790c0",
   "metadata": {
    "execution": {
     "iopub.execute_input": "2023-11-30T11:16:08.931572Z",
     "iopub.status.busy": "2023-11-30T11:16:08.929694Z",
     "iopub.status.idle": "2023-11-30T11:16:08.980404Z",
     "shell.execute_reply": "2023-11-30T11:16:08.978826Z"
    },
    "papermill": {
     "duration": 0.066836,
     "end_time": "2023-11-30T11:16:08.983362",
     "exception": false,
     "start_time": "2023-11-30T11:16:08.916526",
     "status": "completed"
    },
    "tags": []
   },
   "outputs": [
    {
     "name": "stdout",
     "output_type": "stream",
     "text": [
      "(518, 6)\n"
     ]
    },
    {
     "data": {
      "text/html": [
       "<div>\n",
       "<style scoped>\n",
       "    .dataframe tbody tr th:only-of-type {\n",
       "        vertical-align: middle;\n",
       "    }\n",
       "\n",
       "    .dataframe tbody tr th {\n",
       "        vertical-align: top;\n",
       "    }\n",
       "\n",
       "    .dataframe thead th {\n",
       "        text-align: right;\n",
       "    }\n",
       "</style>\n",
       "<table border=\"1\" class=\"dataframe\">\n",
       "  <thead>\n",
       "    <tr style=\"text-align: right;\">\n",
       "      <th></th>\n",
       "      <th>Location</th>\n",
       "      <th>Time</th>\n",
       "      <th>Hospital_Stay</th>\n",
       "      <th>MRI_Units</th>\n",
       "      <th>CT_Scanners</th>\n",
       "      <th>Hospital_Beds</th>\n",
       "    </tr>\n",
       "  </thead>\n",
       "  <tbody>\n",
       "    <tr>\n",
       "      <th>0</th>\n",
       "      <td>AUS</td>\n",
       "      <td>1992</td>\n",
       "      <td>6.6</td>\n",
       "      <td>1.43</td>\n",
       "      <td>16.71</td>\n",
       "      <td>1.43</td>\n",
       "    </tr>\n",
       "    <tr>\n",
       "      <th>1</th>\n",
       "      <td>AUS</td>\n",
       "      <td>1994</td>\n",
       "      <td>6.4</td>\n",
       "      <td>2.36</td>\n",
       "      <td>18.48</td>\n",
       "      <td>2.36</td>\n",
       "    </tr>\n",
       "    <tr>\n",
       "      <th>2</th>\n",
       "      <td>AUS</td>\n",
       "      <td>1995</td>\n",
       "      <td>6.5</td>\n",
       "      <td>2.89</td>\n",
       "      <td>20.55</td>\n",
       "      <td>2.89</td>\n",
       "    </tr>\n",
       "    <tr>\n",
       "      <th>3</th>\n",
       "      <td>AUS</td>\n",
       "      <td>1996</td>\n",
       "      <td>6.4</td>\n",
       "      <td>2.96</td>\n",
       "      <td>21.95</td>\n",
       "      <td>2.96</td>\n",
       "    </tr>\n",
       "    <tr>\n",
       "      <th>4</th>\n",
       "      <td>AUS</td>\n",
       "      <td>1997</td>\n",
       "      <td>6.2</td>\n",
       "      <td>3.53</td>\n",
       "      <td>23.34</td>\n",
       "      <td>3.53</td>\n",
       "    </tr>\n",
       "  </tbody>\n",
       "</table>\n",
       "</div>"
      ],
      "text/plain": [
       "  Location  Time  Hospital_Stay  MRI_Units  CT_Scanners  Hospital_Beds\n",
       "0      AUS  1992            6.6       1.43        16.71           1.43\n",
       "1      AUS  1994            6.4       2.36        18.48           2.36\n",
       "2      AUS  1995            6.5       2.89        20.55           2.89\n",
       "3      AUS  1996            6.4       2.96        21.95           2.96\n",
       "4      AUS  1997            6.2       3.53        23.34           3.53"
      ]
     },
     "execution_count": 3,
     "metadata": {},
     "output_type": "execute_result"
    }
   ],
   "source": [
    "df = pd.read_csv(\"/kaggle/input/healthcare-investments-and-length-of-hospital-stay/Healthcare_Investments_and_Hospital_Stay (1).csv\")\n",
    "print (df.shape)\n",
    "df.head()"
   ]
  },
  {
   "cell_type": "code",
   "execution_count": 4,
   "id": "5e90c795",
   "metadata": {
    "execution": {
     "iopub.execute_input": "2023-11-30T11:16:09.012160Z",
     "iopub.status.busy": "2023-11-30T11:16:09.011458Z",
     "iopub.status.idle": "2023-11-30T11:16:09.053246Z",
     "shell.execute_reply": "2023-11-30T11:16:09.051639Z"
    },
    "papermill": {
     "duration": 0.059497,
     "end_time": "2023-11-30T11:16:09.055504",
     "exception": false,
     "start_time": "2023-11-30T11:16:08.996007",
     "status": "completed"
    },
    "tags": []
   },
   "outputs": [
    {
     "data": {
      "text/html": [
       "<div>\n",
       "<style scoped>\n",
       "    .dataframe tbody tr th:only-of-type {\n",
       "        vertical-align: middle;\n",
       "    }\n",
       "\n",
       "    .dataframe tbody tr th {\n",
       "        vertical-align: top;\n",
       "    }\n",
       "\n",
       "    .dataframe thead th {\n",
       "        text-align: right;\n",
       "    }\n",
       "</style>\n",
       "<table border=\"1\" class=\"dataframe\">\n",
       "  <thead>\n",
       "    <tr style=\"text-align: right;\">\n",
       "      <th></th>\n",
       "      <th>Location</th>\n",
       "      <th>Time</th>\n",
       "      <th>Hospital_Stay</th>\n",
       "      <th>MRI_Units</th>\n",
       "      <th>CT_Scanners</th>\n",
       "      <th>Hospital_Beds</th>\n",
       "    </tr>\n",
       "  </thead>\n",
       "  <tbody>\n",
       "    <tr>\n",
       "      <th>count</th>\n",
       "      <td>518</td>\n",
       "      <td>518.000000</td>\n",
       "      <td>518.000000</td>\n",
       "      <td>518.000000</td>\n",
       "      <td>518.000000</td>\n",
       "      <td>518.000000</td>\n",
       "    </tr>\n",
       "    <tr>\n",
       "      <th>unique</th>\n",
       "      <td>32</td>\n",
       "      <td>NaN</td>\n",
       "      <td>NaN</td>\n",
       "      <td>NaN</td>\n",
       "      <td>NaN</td>\n",
       "      <td>NaN</td>\n",
       "    </tr>\n",
       "    <tr>\n",
       "      <th>top</th>\n",
       "      <td>HUN</td>\n",
       "      <td>NaN</td>\n",
       "      <td>NaN</td>\n",
       "      <td>NaN</td>\n",
       "      <td>NaN</td>\n",
       "      <td>NaN</td>\n",
       "    </tr>\n",
       "    <tr>\n",
       "      <th>freq</th>\n",
       "      <td>29</td>\n",
       "      <td>NaN</td>\n",
       "      <td>NaN</td>\n",
       "      <td>NaN</td>\n",
       "      <td>NaN</td>\n",
       "      <td>NaN</td>\n",
       "    </tr>\n",
       "    <tr>\n",
       "      <th>mean</th>\n",
       "      <td>NaN</td>\n",
       "      <td>2007.967181</td>\n",
       "      <td>7.140154</td>\n",
       "      <td>10.565502</td>\n",
       "      <td>19.646718</td>\n",
       "      <td>10.565502</td>\n",
       "    </tr>\n",
       "    <tr>\n",
       "      <th>std</th>\n",
       "      <td>NaN</td>\n",
       "      <td>6.944160</td>\n",
       "      <td>2.566864</td>\n",
       "      <td>8.685570</td>\n",
       "      <td>14.352069</td>\n",
       "      <td>8.685570</td>\n",
       "    </tr>\n",
       "    <tr>\n",
       "      <th>min</th>\n",
       "      <td>NaN</td>\n",
       "      <td>1990.000000</td>\n",
       "      <td>3.400000</td>\n",
       "      <td>0.100000</td>\n",
       "      <td>1.480000</td>\n",
       "      <td>0.100000</td>\n",
       "    </tr>\n",
       "    <tr>\n",
       "      <th>25%</th>\n",
       "      <td>NaN</td>\n",
       "      <td>2003.250000</td>\n",
       "      <td>5.800000</td>\n",
       "      <td>4.072500</td>\n",
       "      <td>10.332500</td>\n",
       "      <td>4.072500</td>\n",
       "    </tr>\n",
       "    <tr>\n",
       "      <th>50%</th>\n",
       "      <td>NaN</td>\n",
       "      <td>2009.000000</td>\n",
       "      <td>6.650000</td>\n",
       "      <td>8.765000</td>\n",
       "      <td>15.375000</td>\n",
       "      <td>8.765000</td>\n",
       "    </tr>\n",
       "    <tr>\n",
       "      <th>75%</th>\n",
       "      <td>NaN</td>\n",
       "      <td>2014.000000</td>\n",
       "      <td>7.500000</td>\n",
       "      <td>13.877500</td>\n",
       "      <td>26.592500</td>\n",
       "      <td>13.877500</td>\n",
       "    </tr>\n",
       "    <tr>\n",
       "      <th>max</th>\n",
       "      <td>NaN</td>\n",
       "      <td>2018.000000</td>\n",
       "      <td>32.700000</td>\n",
       "      <td>55.210000</td>\n",
       "      <td>111.490000</td>\n",
       "      <td>55.210000</td>\n",
       "    </tr>\n",
       "  </tbody>\n",
       "</table>\n",
       "</div>"
      ],
      "text/plain": [
       "       Location         Time  Hospital_Stay   MRI_Units  CT_Scanners  \\\n",
       "count       518   518.000000     518.000000  518.000000   518.000000   \n",
       "unique       32          NaN            NaN         NaN          NaN   \n",
       "top         HUN          NaN            NaN         NaN          NaN   \n",
       "freq         29          NaN            NaN         NaN          NaN   \n",
       "mean        NaN  2007.967181       7.140154   10.565502    19.646718   \n",
       "std         NaN     6.944160       2.566864    8.685570    14.352069   \n",
       "min         NaN  1990.000000       3.400000    0.100000     1.480000   \n",
       "25%         NaN  2003.250000       5.800000    4.072500    10.332500   \n",
       "50%         NaN  2009.000000       6.650000    8.765000    15.375000   \n",
       "75%         NaN  2014.000000       7.500000   13.877500    26.592500   \n",
       "max         NaN  2018.000000      32.700000   55.210000   111.490000   \n",
       "\n",
       "        Hospital_Beds  \n",
       "count      518.000000  \n",
       "unique            NaN  \n",
       "top               NaN  \n",
       "freq              NaN  \n",
       "mean        10.565502  \n",
       "std          8.685570  \n",
       "min          0.100000  \n",
       "25%          4.072500  \n",
       "50%          8.765000  \n",
       "75%         13.877500  \n",
       "max         55.210000  "
      ]
     },
     "execution_count": 4,
     "metadata": {},
     "output_type": "execute_result"
    }
   ],
   "source": [
    "df.describe(include='all')"
   ]
  },
  {
   "cell_type": "code",
   "execution_count": 5,
   "id": "54608493",
   "metadata": {
    "execution": {
     "iopub.execute_input": "2023-11-30T11:16:09.082261Z",
     "iopub.status.busy": "2023-11-30T11:16:09.081847Z",
     "iopub.status.idle": "2023-11-30T11:16:09.090201Z",
     "shell.execute_reply": "2023-11-30T11:16:09.088055Z"
    },
    "papermill": {
     "duration": 0.025712,
     "end_time": "2023-11-30T11:16:09.093507",
     "exception": false,
     "start_time": "2023-11-30T11:16:09.067795",
     "status": "completed"
    },
    "tags": []
   },
   "outputs": [
    {
     "name": "stdout",
     "output_type": "stream",
     "text": [
      "Location         0\n",
      "Time             0\n",
      "Hospital_Stay    0\n",
      "MRI_Units        0\n",
      "CT_Scanners      0\n",
      "Hospital_Beds    0\n",
      "dtype: int64\n"
     ]
    }
   ],
   "source": [
    "print(df.isna().sum())"
   ]
  },
  {
   "cell_type": "code",
   "execution_count": 6,
   "id": "0c622fe0",
   "metadata": {
    "execution": {
     "iopub.execute_input": "2023-11-30T11:16:09.121732Z",
     "iopub.status.busy": "2023-11-30T11:16:09.121279Z",
     "iopub.status.idle": "2023-11-30T11:16:09.273414Z",
     "shell.execute_reply": "2023-11-30T11:16:09.272576Z"
    },
    "papermill": {
     "duration": 0.169012,
     "end_time": "2023-11-30T11:16:09.275357",
     "exception": false,
     "start_time": "2023-11-30T11:16:09.106345",
     "status": "completed"
    },
    "tags": []
   },
   "outputs": [
    {
     "data": {
      "image/png": "[encoded data removed]",
      "text/plain": [
       "<Figure size 640x480 with 1 Axes>"
      ]
     },
     "metadata": {},
     "output_type": "display_data"
    }
   ],
   "source": [
    "sns.countplot(df['Hospital_Beds'])\n",
    "plt.show()"
   ]
  },
  {
   "cell_type": "code",
   "execution_count": 7,
   "id": "161e4d78",
   "metadata": {
    "execution": {
     "iopub.execute_input": "2023-11-30T11:16:09.304174Z",
     "iopub.status.busy": "2023-11-30T11:16:09.303835Z",
     "iopub.status.idle": "2023-11-30T11:16:09.831784Z",
     "shell.execute_reply": "2023-11-30T11:16:09.830589Z"
    },
    "papermill": {
     "duration": 0.543197,
     "end_time": "2023-11-30T11:16:09.833825",
     "exception": false,
     "start_time": "2023-11-30T11:16:09.290628",
     "status": "completed"
    },
    "tags": []
   },
   "outputs": [
    {
     "data": {
      "image/png": "[encoded data removed]",
      "text/plain": [
       "<Figure size 1800x800 with 2 Axes>"
      ]
     },
     "metadata": {},
     "output_type": "display_data"
    }
   ],
   "source": [
    "sns.set(style='darkgrid')\n",
    "fig, ax = plt.subplots(1,2, figsize=(18,8))\n",
    "df.groupby('Time')['MRI_Units'].mean().plot(ax=ax[0], ylabel='Mean')\n",
    "df.groupby('Time')['MRI_Units'].var().plot(ax=ax[1], ylabel='Variance')\n",
    "plt.show()"
   ]
  },
  {
   "cell_type": "code",
   "execution_count": 8,
   "id": "6c0bbc5c",
   "metadata": {
    "execution": {
     "iopub.execute_input": "2023-11-30T11:16:09.863149Z",
     "iopub.status.busy": "2023-11-30T11:16:09.862723Z",
     "iopub.status.idle": "2023-11-30T11:16:10.209031Z",
     "shell.execute_reply": "2023-11-30T11:16:10.208104Z"
    },
    "papermill": {
     "duration": 0.364065,
     "end_time": "2023-11-30T11:16:10.211815",
     "exception": false,
     "start_time": "2023-11-30T11:16:09.847750",
     "status": "completed"
    },
    "tags": []
   },
   "outputs": [
    {
     "data": {
      "text/plain": [
       "Text(0.5, 1.0, 'Correlation matrix for each indicator')"
      ]
     },
     "execution_count": 8,
     "metadata": {},
     "output_type": "execute_result"
    },
    {
     "data": {
      "image/png": "[encoded data removed]",
      "text/plain": [
       "<Figure size 640x480 with 2 Axes>"
      ]
     },
     "metadata": {},
     "output_type": "display_data"
    }
   ],
   "source": [
    "g = sns.heatmap(df[[\"Hospital_Beds\", \"CT_Scanners\", \"MRI_Units\", \"Hospital_Stay\"]].corr(),\n",
    "                annot=True, cmap=\"YlGnBu\")\n",
    "g.set_title(\"Correlation matrix for each indicator\")"
   ]
  },
  {
   "cell_type": "code",
   "execution_count": 9,
   "id": "b324a527",
   "metadata": {
    "execution": {
     "iopub.execute_input": "2023-11-30T11:16:10.240239Z",
     "iopub.status.busy": "2023-11-30T11:16:10.239842Z",
     "iopub.status.idle": "2023-11-30T11:16:14.947140Z",
     "shell.execute_reply": "2023-11-30T11:16:14.945519Z"
    },
    "papermill": {
     "duration": 4.725053,
     "end_time": "2023-11-30T11:16:14.950426",
     "exception": false,
     "start_time": "2023-11-30T11:16:10.225373",
     "status": "completed"
    },
    "tags": []
   },
   "outputs": [
    {
     "name": "stderr",
     "output_type": "stream",
     "text": [
      "/opt/conda/lib/python3.10/site-packages/seaborn/axisgrid.py:118: UserWarning: The figure layout has changed to tight\n",
      "  self._figure.tight_layout(*args, **kwargs)\n"
     ]
    },
    {
     "data": {
      "image/png": "[encoded data removed]",
      "text/plain": [
       "<Figure size 1000x1000 with 20 Axes>"
      ]
     },
     "metadata": {},
     "output_type": "display_data"
    }
   ],
   "source": [
    "g = sns.pairplot(df[[\"Hospital_Beds\", \"CT_Scanners\", \"MRI_Units\", \"Hospital_Stay\"]])"
   ]
  },
  {
   "cell_type": "code",
   "execution_count": null,
   "id": "4600d903",
   "metadata": {
    "papermill": {
     "duration": 0.015173,
     "end_time": "2023-11-30T11:16:14.982126",
     "exception": false,
     "start_time": "2023-11-30T11:16:14.966953",
     "status": "completed"
    },
    "tags": []
   },
   "outputs": [],
   "source": []
  },
  {
   "cell_type": "code",
   "execution_count": null,
   "id": "c063b76e",
   "metadata": {
    "papermill": {
     "duration": 0.014946,
     "end_time": "2023-11-30T11:16:15.012129",
     "exception": false,
     "start_time": "2023-11-30T11:16:14.997183",
     "status": "completed"
    },
    "tags": []
   },
   "outputs": [],
   "source": []
  },
  {
   "cell_type": "code",
   "execution_count": 10,
   "id": "ca5b7bc9",
   "metadata": {
    "execution": {
     "iopub.execute_input": "2023-11-30T11:16:15.129569Z",
     "iopub.status.busy": "2023-11-30T11:16:15.129195Z",
     "iopub.status.idle": "2023-11-30T11:16:15.135670Z",
     "shell.execute_reply": "2023-11-30T11:16:15.134528Z"
    },
    "papermill": {
     "duration": 0.025769,
     "end_time": "2023-11-30T11:16:15.137719",
     "exception": false,
     "start_time": "2023-11-30T11:16:15.111950",
     "status": "completed"
    },
    "tags": []
   },
   "outputs": [],
   "source": [
    "def onehot_encode(df, column):\n",
    "    df = df.copy()\n",
    "    dummies = pd.get_dummies(df[column])\n",
    "    df = pd.concat([df, dummies], axis=1)\n",
    "    df = df.drop(column, axis=1)\n",
    "    return df"
   ]
  },
  {
   "cell_type": "code",
   "execution_count": 11,
   "id": "77376aae",
   "metadata": {
    "execution": {
     "iopub.execute_input": "2023-11-30T11:16:15.170752Z",
     "iopub.status.busy": "2023-11-30T11:16:15.170302Z",
     "iopub.status.idle": "2023-11-30T11:16:15.178536Z",
     "shell.execute_reply": "2023-11-30T11:16:15.177119Z"
    },
    "papermill": {
     "duration": 0.027011,
     "end_time": "2023-11-30T11:16:15.180808",
     "exception": false,
     "start_time": "2023-11-30T11:16:15.153797",
     "status": "completed"
    },
    "tags": []
   },
   "outputs": [],
   "source": [
    "def preprocess_inputs(df):\n",
    "    df = df.copy()\n",
    "    \n",
    "    # One-hot encode Location column\n",
    "    df = onehot_encode(df, column='Location')\n",
    "    \n",
    "    # Split df into X and y\n",
    "    y = df['Hospital_Stay'].copy()\n",
    "    X = df.drop('Hospital_Stay', axis=1).copy()\n",
    "    \n",
    "    # Train-test split\n",
    "    X_train, X_test, y_train, y_test = train_test_split(X, y, train_size=0.7, random_state=123)\n",
    "    \n",
    "    # Scale X with a standard scaler\n",
    "    scaler = StandardScaler()\n",
    "    scaler.fit(X_train)\n",
    "    \n",
    "    X_train = pd.DataFrame(scaler.transform(X_train), columns=X.columns)\n",
    "    X_test = pd.DataFrame(scaler.transform(X_test), columns=X.columns)\n",
    "    \n",
    "    return X_train, X_test, y_train, y_test"
   ]
  },
  {
   "cell_type": "code",
   "execution_count": 12,
   "id": "6e3e2e2b",
   "metadata": {
    "execution": {
     "iopub.execute_input": "2023-11-30T11:16:15.216130Z",
     "iopub.status.busy": "2023-11-30T11:16:15.215791Z",
     "iopub.status.idle": "2023-11-30T11:16:15.238029Z",
     "shell.execute_reply": "2023-11-30T11:16:15.236778Z"
    },
    "papermill": {
     "duration": 0.042492,
     "end_time": "2023-11-30T11:16:15.240636",
     "exception": false,
     "start_time": "2023-11-30T11:16:15.198144",
     "status": "completed"
    },
    "tags": []
   },
   "outputs": [],
   "source": [
    "X_train, X_test, y_train, y_test = preprocess_inputs(df)"
   ]
  },
  {
   "cell_type": "code",
   "execution_count": 13,
   "id": "80482651",
   "metadata": {
    "execution": {
     "iopub.execute_input": "2023-11-30T11:16:15.274009Z",
     "iopub.status.busy": "2023-11-30T11:16:15.273633Z",
     "iopub.status.idle": "2023-11-30T11:16:15.281607Z",
     "shell.execute_reply": "2023-11-30T11:16:15.280434Z"
    },
    "papermill": {
     "duration": 0.026631,
     "end_time": "2023-11-30T11:16:15.283439",
     "exception": false,
     "start_time": "2023-11-30T11:16:15.256808",
     "status": "completed"
    },
    "tags": []
   },
   "outputs": [],
   "source": [
    "X_train, X_valid, y_train, y_valid = train_test_split(X_train, y_train, test_size=.2, random_state=123)"
   ]
  },
  {
   "cell_type": "code",
   "execution_count": 14,
   "id": "38f2f92f",
   "metadata": {
    "execution": {
     "iopub.execute_input": "2023-11-30T11:16:15.316614Z",
     "iopub.status.busy": "2023-11-30T11:16:15.316221Z",
     "iopub.status.idle": "2023-11-30T11:16:15.809224Z",
     "shell.execute_reply": "2023-11-30T11:16:15.808409Z"
    },
    "papermill": {
     "duration": 0.517529,
     "end_time": "2023-11-30T11:16:15.816762",
     "exception": false,
     "start_time": "2023-11-30T11:16:15.299233",
     "status": "completed"
    },
    "tags": []
   },
   "outputs": [
    {
     "name": "stdout",
     "output_type": "stream",
     "text": [
      "                     Linear Regression trained.\n",
      "                   K-Nearest Neighbors trained.\n",
      "                         Decision Tree trained.\n",
      "                         Random Forest trained.\n",
      "                     Gradient Boosting trained.\n",
      "                               XGBoost trained.\n"
     ]
    }
   ],
   "source": [
    "models = {\n",
    "    \"                     Linear Regression\": LinearRegression(),\n",
    "    \"                   K-Nearest Neighbors\": KNeighborsRegressor(),\n",
    "    \"                         Decision Tree\": DecisionTreeRegressor(),\n",
    "    \"                         Random Forest\": RandomForestRegressor(),\n",
    "    \"                     Gradient Boosting\": GradientBoostingRegressor(),\n",
    "    \"                               XGBoost\": XGBRegressor(),\n",
    "                                \n",
    "}\n",
    "\n",
    "for name, model in models.items():\n",
    "    model.fit(X_train, y_train)\n",
    "    print(name + \" trained.\")"
   ]
  },
  {
   "cell_type": "code",
   "execution_count": 15,
   "id": "985b2e5f",
   "metadata": {
    "execution": {
     "iopub.execute_input": "2023-11-30T11:16:15.860043Z",
     "iopub.status.busy": "2023-11-30T11:16:15.859650Z",
     "iopub.status.idle": "2023-11-30T11:16:15.967793Z",
     "shell.execute_reply": "2023-11-30T11:16:15.966968Z"
    },
    "papermill": {
     "duration": 0.131656,
     "end_time": "2023-11-30T11:16:15.970089",
     "exception": false,
     "start_time": "2023-11-30T11:16:15.838433",
     "status": "completed"
    },
    "tags": []
   },
   "outputs": [
    {
     "name": "stdout",
     "output_type": "stream",
     "text": [
      "                     Linear Regression R^2 Score: 0.84711\n",
      "                   K-Nearest Neighbors R^2 Score: 0.86755\n",
      "                         Decision Tree R^2 Score: 0.93204\n",
      "                         Random Forest R^2 Score: 0.94858\n",
      "                     Gradient Boosting R^2 Score: 0.92257\n",
      "                               XGBoost R^2 Score: 0.94803\n"
     ]
    }
   ],
   "source": [
    "for name, model in models.items():\n",
    "    print(name + \" R^2 Score: {:.5f}\".format(model.score(X_test, y_test)))\n",
    "    "
   ]
  },
  {
   "cell_type": "code",
   "execution_count": 16,
   "id": "f45fc77a",
   "metadata": {
    "execution": {
     "iopub.execute_input": "2023-11-30T11:16:16.004661Z",
     "iopub.status.busy": "2023-11-30T11:16:16.004246Z",
     "iopub.status.idle": "2023-11-30T11:16:16.020599Z",
     "shell.execute_reply": "2023-11-30T11:16:16.019646Z"
    },
    "papermill": {
     "duration": 0.036832,
     "end_time": "2023-11-30T11:16:16.023053",
     "exception": false,
     "start_time": "2023-11-30T11:16:15.986221",
     "status": "completed"
    },
    "tags": []
   },
   "outputs": [
    {
     "name": "stdout",
     "output_type": "stream",
     "text": [
      "<class 'pandas.core.frame.DataFrame'>\n",
      "RangeIndex: 518 entries, 0 to 517\n",
      "Data columns (total 6 columns):\n",
      " #   Column         Non-Null Count  Dtype  \n",
      "---  ------         --------------  -----  \n",
      " 0   Location       518 non-null    object \n",
      " 1   Time           518 non-null    int64  \n",
      " 2   Hospital_Stay  518 non-null    float64\n",
      " 3   MRI_Units      518 non-null    float64\n",
      " 4   CT_Scanners    518 non-null    float64\n",
      " 5   Hospital_Beds  518 non-null    float64\n",
      "dtypes: float64(4), int64(1), object(1)\n",
      "memory usage: 24.4+ KB\n"
     ]
    }
   ],
   "source": [
    "df.info()"
   ]
  },
  {
   "cell_type": "code",
   "execution_count": 17,
   "id": "c7ba43c8",
   "metadata": {
    "execution": {
     "iopub.execute_input": "2023-11-30T11:16:16.057418Z",
     "iopub.status.busy": "2023-11-30T11:16:16.057055Z",
     "iopub.status.idle": "2023-11-30T11:16:16.061008Z",
     "shell.execute_reply": "2023-11-30T11:16:16.060135Z"
    },
    "papermill": {
     "duration": 0.023542,
     "end_time": "2023-11-30T11:16:16.062843",
     "exception": false,
     "start_time": "2023-11-30T11:16:16.039301",
     "status": "completed"
    },
    "tags": []
   },
   "outputs": [],
   "source": [
    "# print(x.dtypes)\n",
    "# print(y.dtypes)\n"
   ]
  },
  {
   "cell_type": "code",
   "execution_count": 18,
   "id": "9b221323",
   "metadata": {
    "execution": {
     "iopub.execute_input": "2023-11-30T11:16:16.098428Z",
     "iopub.status.busy": "2023-11-30T11:16:16.098058Z",
     "iopub.status.idle": "2023-11-30T11:16:16.109528Z",
     "shell.execute_reply": "2023-11-30T11:16:16.108318Z"
    },
    "papermill": {
     "duration": 0.032377,
     "end_time": "2023-11-30T11:16:16.111753",
     "exception": false,
     "start_time": "2023-11-30T11:16:16.079376",
     "status": "completed"
    },
    "tags": []
   },
   "outputs": [
    {
     "name": "stdout",
     "output_type": "stream",
     "text": [
      "<class 'pandas.core.frame.DataFrame'>\n",
      "RangeIndex: 518 entries, 0 to 517\n",
      "Data columns (total 6 columns):\n",
      " #   Column         Non-Null Count  Dtype  \n",
      "---  ------         --------------  -----  \n",
      " 0   Location       518 non-null    object \n",
      " 1   Time           518 non-null    int64  \n",
      " 2   Hospital_Stay  518 non-null    float64\n",
      " 3   MRI_Units      518 non-null    float64\n",
      " 4   CT_Scanners    518 non-null    float64\n",
      " 5   Hospital_Beds  518 non-null    float64\n",
      "dtypes: float64(4), int64(1), object(1)\n",
      "memory usage: 24.4+ KB\n"
     ]
    }
   ],
   "source": [
    "df.info()"
   ]
  },
  {
   "cell_type": "code",
   "execution_count": 19,
   "id": "c6ebc8fb",
   "metadata": {
    "execution": {
     "iopub.execute_input": "2023-11-30T11:16:16.146718Z",
     "iopub.status.busy": "2023-11-30T11:16:16.146354Z",
     "iopub.status.idle": "2023-11-30T11:16:16.151841Z",
     "shell.execute_reply": "2023-11-30T11:16:16.150423Z"
    },
    "papermill": {
     "duration": 0.025172,
     "end_time": "2023-11-30T11:16:16.153916",
     "exception": false,
     "start_time": "2023-11-30T11:16:16.128744",
     "status": "completed"
    },
    "tags": []
   },
   "outputs": [],
   "source": [
    "# x=df.drop(['Location'],axis=1)\n",
    "# x=sm.add_constant(x)\n",
    "# y=df['Location']\n",
    "# model=sm.OLS(y,x).fit()\n",
    "# model.summary()"
   ]
  },
  {
   "cell_type": "code",
   "execution_count": 20,
   "id": "c2da958b",
   "metadata": {
    "execution": {
     "iopub.execute_input": "2023-11-30T11:16:16.190645Z",
     "iopub.status.busy": "2023-11-30T11:16:16.189884Z",
     "iopub.status.idle": "2023-11-30T11:16:26.912842Z",
     "shell.execute_reply": "2023-11-30T11:16:26.911048Z"
    },
    "papermill": {
     "duration": 10.745272,
     "end_time": "2023-11-30T11:16:26.915874",
     "exception": false,
     "start_time": "2023-11-30T11:16:16.170602",
     "status": "completed"
    },
    "tags": []
   },
   "outputs": [
    {
     "name": "stdout",
     "output_type": "stream",
     "text": [
      "Collecting linearmodels\r\n",
      "  Downloading linearmodels-5.3-cp310-cp310-manylinux_2_17_x86_64.manylinux2014_x86_64.whl (1.8 MB)\r\n",
      "\u001b[2K     \u001b[90m━━━━━━━━━━━━━━━━━━━━━━━━━━━━━━━━━━━━━━━━\u001b[0m \u001b[32m1.8/1.8 MB\u001b[0m \u001b[31m27.2 MB/s\u001b[0m eta \u001b[36m0:00:00\u001b[0m\r\n",
      "\u001b[?25hRequirement already satisfied: numpy>=1.19.0 in /opt/conda/lib/python3.10/site-packages (from linearmodels) (1.23.5)\r\n",
      "Requirement already satisfied: pandas>=1.1.0 in /opt/conda/lib/python3.10/site-packages (from linearmodels) (2.0.3)\r\n",
      "Requirement already satisfied: scipy>=1.5.0 in /opt/conda/lib/python3.10/site-packages (from linearmodels) (1.11.2)\r\n",
      "Requirement already satisfied: statsmodels>=0.12.0 in /opt/conda/lib/python3.10/site-packages (from linearmodels) (0.14.0)\r\n",
      "Requirement already satisfied: mypy-extensions>=0.4 in /opt/conda/lib/python3.10/site-packages (from linearmodels) (1.0.0)\r\n",
      "Requirement already satisfied: Cython>=0.29.34 in /opt/conda/lib/python3.10/site-packages (from linearmodels) (0.29.35)\r\n",
      "Collecting pyhdfe>=0.1 (from linearmodels)\r\n",
      "  Downloading pyhdfe-0.2.0-py3-none-any.whl (19 kB)\r\n",
      "Collecting formulaic>=0.6.5 (from linearmodels)\r\n",
      "  Downloading formulaic-0.6.6-py3-none-any.whl (91 kB)\r\n",
      "\u001b[2K     \u001b[90m━━━━━━━━━━━━━━━━━━━━━━━━━━━━━━━━━━━━━━━━\u001b[0m \u001b[32m91.0/91.0 kB\u001b[0m \u001b[31m7.5 MB/s\u001b[0m eta \u001b[36m0:00:00\u001b[0m\r\n",
      "\u001b[?25hRequirement already satisfied: setuptools-scm[toml]<8.0.0,>=7.0.0 in /opt/conda/lib/python3.10/site-packages (from linearmodels) (7.1.0)\r\n",
      "Collecting astor>=0.8 (from formulaic>=0.6.5->linearmodels)\r\n",
      "  Downloading astor-0.8.1-py2.py3-none-any.whl (27 kB)\r\n",
      "Collecting interface-meta>=1.2.0 (from formulaic>=0.6.5->linearmodels)\r\n",
      "  Downloading interface_meta-1.3.0-py3-none-any.whl (14 kB)\r\n",
      "Requirement already satisfied: typing-extensions>=4.2.0 in /opt/conda/lib/python3.10/site-packages (from formulaic>=0.6.5->linearmodels) (4.6.3)\r\n",
      "Requirement already satisfied: wrapt>=1.0 in /opt/conda/lib/python3.10/site-packages (from formulaic>=0.6.5->linearmodels) (1.14.1)\r\n",
      "Requirement already satisfied: python-dateutil>=2.8.2 in /opt/conda/lib/python3.10/site-packages (from pandas>=1.1.0->linearmodels) (2.8.2)\r\n",
      "Requirement already satisfied: pytz>=2020.1 in /opt/conda/lib/python3.10/site-packages (from pandas>=1.1.0->linearmodels) (2023.3)\r\n",
      "Requirement already satisfied: tzdata>=2022.1 in /opt/conda/lib/python3.10/site-packages (from pandas>=1.1.0->linearmodels) (2023.3)\r\n",
      "Requirement already satisfied: packaging>=20.0 in /opt/conda/lib/python3.10/site-packages (from setuptools-scm[toml]<8.0.0,>=7.0.0->linearmodels) (21.3)\r\n",
      "Requirement already satisfied: setuptools in /opt/conda/lib/python3.10/site-packages (from setuptools-scm[toml]<8.0.0,>=7.0.0->linearmodels) (68.0.0)\r\n",
      "Requirement already satisfied: tomli>=1.0.0 in /opt/conda/lib/python3.10/site-packages (from setuptools-scm[toml]<8.0.0,>=7.0.0->linearmodels) (2.0.1)\r\n",
      "Requirement already satisfied: patsy>=0.5.2 in /opt/conda/lib/python3.10/site-packages (from statsmodels>=0.12.0->linearmodels) (0.5.3)\r\n",
      "Requirement already satisfied: pyparsing!=3.0.5,>=2.0.2 in /opt/conda/lib/python3.10/site-packages (from packaging>=20.0->setuptools-scm[toml]<8.0.0,>=7.0.0->linearmodels) (3.0.9)\r\n",
      "Requirement already satisfied: six in /opt/conda/lib/python3.10/site-packages (from patsy>=0.5.2->statsmodels>=0.12.0->linearmodels) (1.16.0)\r\n",
      "Installing collected packages: interface-meta, astor, pyhdfe, formulaic, linearmodels\r\n",
      "Successfully installed astor-0.8.1 formulaic-0.6.6 interface-meta-1.3.0 linearmodels-5.3 pyhdfe-0.2.0\r\n"
     ]
    }
   ],
   "source": [
    "!pip install linearmodels "
   ]
  },
  {
   "cell_type": "code",
   "execution_count": 21,
   "id": "d50ff8e5",
   "metadata": {
    "execution": {
     "iopub.execute_input": "2023-11-30T11:16:26.955032Z",
     "iopub.status.busy": "2023-11-30T11:16:26.954607Z",
     "iopub.status.idle": "2023-11-30T11:16:26.974516Z",
     "shell.execute_reply": "2023-11-30T11:16:26.972937Z"
    },
    "papermill": {
     "duration": 0.041783,
     "end_time": "2023-11-30T11:16:26.976651",
     "exception": false,
     "start_time": "2023-11-30T11:16:26.934868",
     "status": "completed"
    },
    "tags": []
   },
   "outputs": [
    {
     "data": {
      "text/html": [
       "<div>\n",
       "<style scoped>\n",
       "    .dataframe tbody tr th:only-of-type {\n",
       "        vertical-align: middle;\n",
       "    }\n",
       "\n",
       "    .dataframe tbody tr th {\n",
       "        vertical-align: top;\n",
       "    }\n",
       "\n",
       "    .dataframe thead th {\n",
       "        text-align: right;\n",
       "    }\n",
       "</style>\n",
       "<table border=\"1\" class=\"dataframe\">\n",
       "  <thead>\n",
       "    <tr style=\"text-align: right;\">\n",
       "      <th></th>\n",
       "      <th>Location</th>\n",
       "      <th>Time</th>\n",
       "      <th>Hospital_Stay</th>\n",
       "      <th>MRI_Units</th>\n",
       "      <th>CT_Scanners</th>\n",
       "      <th>Hospital_Beds</th>\n",
       "    </tr>\n",
       "  </thead>\n",
       "  <tbody>\n",
       "    <tr>\n",
       "      <th>0</th>\n",
       "      <td>AUS</td>\n",
       "      <td>1992</td>\n",
       "      <td>6.6</td>\n",
       "      <td>1.43</td>\n",
       "      <td>16.71</td>\n",
       "      <td>1.43</td>\n",
       "    </tr>\n",
       "    <tr>\n",
       "      <th>1</th>\n",
       "      <td>AUS</td>\n",
       "      <td>1994</td>\n",
       "      <td>6.4</td>\n",
       "      <td>2.36</td>\n",
       "      <td>18.48</td>\n",
       "      <td>2.36</td>\n",
       "    </tr>\n",
       "    <tr>\n",
       "      <th>2</th>\n",
       "      <td>AUS</td>\n",
       "      <td>1995</td>\n",
       "      <td>6.5</td>\n",
       "      <td>2.89</td>\n",
       "      <td>20.55</td>\n",
       "      <td>2.89</td>\n",
       "    </tr>\n",
       "    <tr>\n",
       "      <th>3</th>\n",
       "      <td>AUS</td>\n",
       "      <td>1996</td>\n",
       "      <td>6.4</td>\n",
       "      <td>2.96</td>\n",
       "      <td>21.95</td>\n",
       "      <td>2.96</td>\n",
       "    </tr>\n",
       "    <tr>\n",
       "      <th>4</th>\n",
       "      <td>AUS</td>\n",
       "      <td>1997</td>\n",
       "      <td>6.2</td>\n",
       "      <td>3.53</td>\n",
       "      <td>23.34</td>\n",
       "      <td>3.53</td>\n",
       "    </tr>\n",
       "    <tr>\n",
       "      <th>...</th>\n",
       "      <td>...</td>\n",
       "      <td>...</td>\n",
       "      <td>...</td>\n",
       "      <td>...</td>\n",
       "      <td>...</td>\n",
       "      <td>...</td>\n",
       "    </tr>\n",
       "    <tr>\n",
       "      <th>513</th>\n",
       "      <td>LTU</td>\n",
       "      <td>2014</td>\n",
       "      <td>6.8</td>\n",
       "      <td>10.57</td>\n",
       "      <td>22.17</td>\n",
       "      <td>10.57</td>\n",
       "    </tr>\n",
       "    <tr>\n",
       "      <th>514</th>\n",
       "      <td>LTU</td>\n",
       "      <td>2015</td>\n",
       "      <td>6.6</td>\n",
       "      <td>11.02</td>\n",
       "      <td>21.00</td>\n",
       "      <td>11.02</td>\n",
       "    </tr>\n",
       "    <tr>\n",
       "      <th>515</th>\n",
       "      <td>LTU</td>\n",
       "      <td>2016</td>\n",
       "      <td>6.6</td>\n",
       "      <td>12.20</td>\n",
       "      <td>23.01</td>\n",
       "      <td>12.20</td>\n",
       "    </tr>\n",
       "    <tr>\n",
       "      <th>516</th>\n",
       "      <td>LTU</td>\n",
       "      <td>2017</td>\n",
       "      <td>6.5</td>\n",
       "      <td>12.37</td>\n",
       "      <td>23.33</td>\n",
       "      <td>12.37</td>\n",
       "    </tr>\n",
       "    <tr>\n",
       "      <th>517</th>\n",
       "      <td>LTU</td>\n",
       "      <td>2018</td>\n",
       "      <td>6.5</td>\n",
       "      <td>12.49</td>\n",
       "      <td>24.27</td>\n",
       "      <td>12.49</td>\n",
       "    </tr>\n",
       "  </tbody>\n",
       "</table>\n",
       "<p>518 rows × 6 columns</p>\n",
       "</div>"
      ],
      "text/plain": [
       "    Location  Time  Hospital_Stay  MRI_Units  CT_Scanners  Hospital_Beds\n",
       "0        AUS  1992            6.6       1.43        16.71           1.43\n",
       "1        AUS  1994            6.4       2.36        18.48           2.36\n",
       "2        AUS  1995            6.5       2.89        20.55           2.89\n",
       "3        AUS  1996            6.4       2.96        21.95           2.96\n",
       "4        AUS  1997            6.2       3.53        23.34           3.53\n",
       "..       ...   ...            ...        ...          ...            ...\n",
       "513      LTU  2014            6.8      10.57        22.17          10.57\n",
       "514      LTU  2015            6.6      11.02        21.00          11.02\n",
       "515      LTU  2016            6.6      12.20        23.01          12.20\n",
       "516      LTU  2017            6.5      12.37        23.33          12.37\n",
       "517      LTU  2018            6.5      12.49        24.27          12.49\n",
       "\n",
       "[518 rows x 6 columns]"
      ]
     },
     "execution_count": 21,
     "metadata": {},
     "output_type": "execute_result"
    }
   ],
   "source": [
    "df"
   ]
  },
  {
   "cell_type": "code",
   "execution_count": 22,
   "id": "755fb8dd",
   "metadata": {
    "execution": {
     "iopub.execute_input": "2023-11-30T11:16:27.017408Z",
     "iopub.status.busy": "2023-11-30T11:16:27.017040Z",
     "iopub.status.idle": "2023-11-30T11:16:27.028591Z",
     "shell.execute_reply": "2023-11-30T11:16:27.027325Z"
    },
    "papermill": {
     "duration": 0.035054,
     "end_time": "2023-11-30T11:16:27.030544",
     "exception": false,
     "start_time": "2023-11-30T11:16:26.995490",
     "status": "completed"
    },
    "tags": []
   },
   "outputs": [
    {
     "name": "stdout",
     "output_type": "stream",
     "text": [
      "    Time  Hospital_Stay\n",
      "0   1990           38.3\n",
      "1   1991           38.6\n",
      "2   1992           54.3\n",
      "3   1993           71.2\n",
      "4   1994           64.6\n",
      "5   1995           63.2\n",
      "6   1996           87.8\n",
      "7   1997           74.3\n",
      "8   1998           55.0\n",
      "9   1999           86.6\n",
      "10  2000          102.9\n",
      "11  2001          110.3\n",
      "12  2002          134.7\n",
      "13  2003          139.4\n",
      "14  2004          141.8\n",
      "15  2005          157.4\n",
      "16  2006          173.6\n",
      "17  2007          170.0\n",
      "18  2008          178.7\n",
      "19  2009          161.7\n",
      "20  2010          183.2\n",
      "21  2011          201.5\n",
      "22  2012          186.2\n",
      "23  2013          184.7\n",
      "24  2014          187.6\n",
      "25  2015          169.7\n",
      "26  2016          160.6\n",
      "27  2017          183.4\n",
      "28  2018          137.3\n"
     ]
    }
   ],
   "source": [
    "df = pd.DataFrame(df)\n",
    "\n",
    "result = df.groupby('Time')['Hospital_Stay'].sum().reset_index()\n",
    "\n",
    "print(result)\n",
    "hosp_stay=pd.DataFrame(result)\n"
   ]
  },
  {
   "cell_type": "code",
   "execution_count": 23,
   "id": "7e9f8cff",
   "metadata": {
    "execution": {
     "iopub.execute_input": "2023-11-30T11:16:27.067774Z",
     "iopub.status.busy": "2023-11-30T11:16:27.067267Z",
     "iopub.status.idle": "2023-11-30T11:16:27.080708Z",
     "shell.execute_reply": "2023-11-30T11:16:27.077844Z"
    },
    "papermill": {
     "duration": 0.035463,
     "end_time": "2023-11-30T11:16:27.083656",
     "exception": false,
     "start_time": "2023-11-30T11:16:27.048193",
     "status": "completed"
    },
    "tags": []
   },
   "outputs": [
    {
     "name": "stdout",
     "output_type": "stream",
     "text": [
      "    Time  Hospital_Stay\n",
      "0   1990           38.3\n",
      "1   1991           38.6\n",
      "2   1992           54.3\n",
      "3   1993           71.2\n",
      "4   1994           64.6\n",
      "5   1995           63.2\n",
      "6   1996           87.8\n",
      "7   1997           74.3\n",
      "8   1998           55.0\n",
      "9   1999           86.6\n",
      "10  2000          102.9\n",
      "11  2001          110.3\n",
      "12  2002          134.7\n",
      "13  2003          139.4\n",
      "14  2004          141.8\n",
      "15  2005          157.4\n",
      "16  2006          173.6\n",
      "17  2007          170.0\n",
      "18  2008          178.7\n",
      "19  2009          161.7\n",
      "20  2010          183.2\n",
      "21  2011          201.5\n",
      "22  2012          186.2\n",
      "23  2013          184.7\n",
      "24  2014          187.6\n",
      "25  2015          169.7\n",
      "26  2016          160.6\n",
      "27  2017          183.4\n",
      "28  2018          137.3\n"
     ]
    }
   ],
   "source": [
    "df = pd.DataFrame(df)\n",
    "\n",
    "result = df.groupby('Time')['Hospital_Stay'].sum().reset_index()\n",
    "\n",
    "print(result)\n",
    "hosp_stay=pd.DataFrame(result)"
   ]
  },
  {
   "cell_type": "code",
   "execution_count": 24,
   "id": "37a75cc1",
   "metadata": {
    "execution": {
     "iopub.execute_input": "2023-11-30T11:16:27.122934Z",
     "iopub.status.busy": "2023-11-30T11:16:27.121950Z",
     "iopub.status.idle": "2023-11-30T11:16:27.429391Z",
     "shell.execute_reply": "2023-11-30T11:16:27.427920Z"
    },
    "papermill": {
     "duration": 0.330037,
     "end_time": "2023-11-30T11:16:27.432751",
     "exception": false,
     "start_time": "2023-11-30T11:16:27.102714",
     "status": "completed"
    },
    "tags": []
   },
   "outputs": [
    {
     "data": {
      "image/png": "[encoded data removed]",
      "text/plain": [
       "<Figure size 1200x500 with 1 Axes>"
      ]
     },
     "metadata": {},
     "output_type": "display_data"
    }
   ],
   "source": [
    "hosp_stay.set_index('Time', inplace=True)\n",
    "hosp_stay['Hospital_Stay'].plot(x='Time', y='Hospital_Stay', figsize=(12, 5))\n",
    "plt.title('Hospital Stay Over the Years')\n",
    "plt.xlabel('Year')\n",
    "plt.ylabel('Hospital Stay')\n",
    "plt.grid(True)\n",
    "plt.show()"
   ]
  },
  {
   "cell_type": "code",
   "execution_count": 25,
   "id": "8b9bc955",
   "metadata": {
    "execution": {
     "iopub.execute_input": "2023-11-30T11:16:27.472491Z",
     "iopub.status.busy": "2023-11-30T11:16:27.472084Z",
     "iopub.status.idle": "2023-11-30T11:16:27.697926Z",
     "shell.execute_reply": "2023-11-30T11:16:27.696384Z"
    },
    "papermill": {
     "duration": 0.248758,
     "end_time": "2023-11-30T11:16:27.700892",
     "exception": false,
     "start_time": "2023-11-30T11:16:27.452134",
     "status": "completed"
    },
    "tags": []
   },
   "outputs": [
    {
     "name": "stdout",
     "output_type": "stream",
     "text": [
      "1. ADF :  -1.448400185754333\n",
      "2. P-Value :  0.5588653307771834\n",
      "3. Num Of Lags :  6\n",
      "4. Num Of Observations Used For ADF Regression: 22\n",
      "5. Critical Values :\n",
      "\t 1% :  -3.769732625845229\n",
      "\t 5% :  -3.005425537190083\n",
      "\t 10% :  -2.6425009917355373\n"
     ]
    }
   ],
   "source": [
    "from statsmodels.tsa.stattools import adfuller\n",
    "def ad_test(dataset):\n",
    "     dftest = adfuller(dataset, autolag = 'AIC')\n",
    "     print(\"1. ADF : \",dftest[0])\n",
    "     print(\"2. P-Value : \", dftest[1])\n",
    "     print(\"3. Num Of Lags : \", dftest[2])\n",
    "     print(\"4. Num Of Observations Used For ADF Regression:\",      dftest[3])\n",
    "     print(\"5. Critical Values :\")\n",
    "     for key, val in dftest[4].items():\n",
    "         print(\"\\t\",key, \": \", val)\n",
    "ad_test(hosp_stay['Hospital_Stay'])"
   ]
  },
  {
   "cell_type": "code",
   "execution_count": 26,
   "id": "6eb0496c",
   "metadata": {
    "execution": {
     "iopub.execute_input": "2023-11-30T11:16:27.765079Z",
     "iopub.status.busy": "2023-11-30T11:16:27.764708Z",
     "iopub.status.idle": "2023-11-30T11:16:29.038576Z",
     "shell.execute_reply": "2023-11-30T11:16:29.037331Z"
    },
    "papermill": {
     "duration": 1.321792,
     "end_time": "2023-11-30T11:16:29.041609",
     "exception": false,
     "start_time": "2023-11-30T11:16:27.719817",
     "status": "completed"
    },
    "tags": []
   },
   "outputs": [],
   "source": [
    "from pmdarima import auto_arima\n",
    "import warnings\n",
    "warnings.filterwarnings(\"ignore\")"
   ]
  },
  {
   "cell_type": "code",
   "execution_count": 27,
   "id": "36b9b018",
   "metadata": {
    "execution": {
     "iopub.execute_input": "2023-11-30T11:16:29.081451Z",
     "iopub.status.busy": "2023-11-30T11:16:29.080756Z",
     "iopub.status.idle": "2023-11-30T11:16:29.430327Z",
     "shell.execute_reply": "2023-11-30T11:16:29.429547Z"
    },
    "papermill": {
     "duration": 0.371839,
     "end_time": "2023-11-30T11:16:29.432625",
     "exception": false,
     "start_time": "2023-11-30T11:16:29.060786",
     "status": "completed"
    },
    "tags": []
   },
   "outputs": [
    {
     "name": "stdout",
     "output_type": "stream",
     "text": [
      "Performing stepwise search to minimize aic\n",
      " ARIMA(2,1,2)(0,0,0)[0] intercept   : AIC=inf, Time=0.20 sec\n",
      " ARIMA(0,1,0)(0,0,0)[0] intercept   : AIC=242.843, Time=0.01 sec\n",
      " ARIMA(1,1,0)(0,0,0)[0] intercept   : AIC=243.624, Time=0.03 sec\n",
      " ARIMA(0,1,1)(0,0,0)[0] intercept   : AIC=243.322, Time=0.03 sec\n",
      " ARIMA(0,1,0)(0,0,0)[0]             : AIC=241.999, Time=0.01 sec\n",
      " ARIMA(1,1,1)(0,0,0)[0] intercept   : AIC=245.307, Time=0.04 sec\n",
      "\n",
      "Best model:  ARIMA(0,1,0)(0,0,0)[0]          \n",
      "Total fit time: 0.318 seconds\n"
     ]
    },
    {
     "data": {
      "text/html": [
       "<table class=\"simpletable\">\n",
       "<caption>SARIMAX Results</caption>\n",
       "<tr>\n",
       "  <th>Dep. Variable:</th>           <td>y</td>        <th>  No. Observations:  </th>    <td>29</td>   \n",
       "</tr>\n",
       "<tr>\n",
       "  <th>Model:</th>           <td>SARIMAX(0, 1, 0)</td> <th>  Log Likelihood     </th> <td>-119.999</td>\n",
       "</tr>\n",
       "<tr>\n",
       "  <th>Date:</th>            <td>Thu, 30 Nov 2023</td> <th>  AIC                </th>  <td>241.999</td>\n",
       "</tr>\n",
       "<tr>\n",
       "  <th>Time:</th>                <td>11:16:29</td>     <th>  BIC                </th>  <td>243.331</td>\n",
       "</tr>\n",
       "<tr>\n",
       "  <th>Sample:</th>                  <td>0</td>        <th>  HQIC               </th>  <td>242.406</td>\n",
       "</tr>\n",
       "<tr>\n",
       "  <th></th>                       <td> - 29</td>      <th>                     </th>     <td> </td>   \n",
       "</tr>\n",
       "<tr>\n",
       "  <th>Covariance Type:</th>        <td>opg</td>       <th>                     </th>     <td> </td>   \n",
       "</tr>\n",
       "</table>\n",
       "<table class=\"simpletable\">\n",
       "<tr>\n",
       "     <td></td>       <th>coef</th>     <th>std err</th>      <th>z</th>      <th>P>|z|</th>  <th>[0.025</th>    <th>0.975]</th>  \n",
       "</tr>\n",
       "<tr>\n",
       "  <th>sigma2</th> <td>  309.0711</td> <td>   86.060</td> <td>    3.591</td> <td> 0.000</td> <td>  140.397</td> <td>  477.746</td>\n",
       "</tr>\n",
       "</table>\n",
       "<table class=\"simpletable\">\n",
       "<tr>\n",
       "  <th>Ljung-Box (L1) (Q):</th>     <td>0.96</td> <th>  Jarque-Bera (JB):  </th> <td>2.53</td> \n",
       "</tr>\n",
       "<tr>\n",
       "  <th>Prob(Q):</th>                <td>0.33</td> <th>  Prob(JB):          </th> <td>0.28</td> \n",
       "</tr>\n",
       "<tr>\n",
       "  <th>Heteroskedasticity (H):</th> <td>1.49</td> <th>  Skew:              </th> <td>-0.71</td>\n",
       "</tr>\n",
       "<tr>\n",
       "  <th>Prob(H) (two-sided):</th>    <td>0.56</td> <th>  Kurtosis:          </th> <td>3.41</td> \n",
       "</tr>\n",
       "</table><br/><br/>Warnings:<br/>[1] Covariance matrix calculated using the outer product of gradients (complex-step)."
      ],
      "text/latex": [
       "\\begin{center}\n",
       "\\begin{tabular}{lclc}\n",
       "\\toprule\n",
       "\\textbf{Dep. Variable:}          &        y         & \\textbf{  No. Observations:  } &     29      \\\\\n",
       "\\textbf{Model:}                  & SARIMAX(0, 1, 0) & \\textbf{  Log Likelihood     } &  -119.999   \\\\\n",
       "\\textbf{Date:}                   & Thu, 30 Nov 2023 & \\textbf{  AIC                } &  241.999    \\\\\n",
       "\\textbf{Time:}                   &     11:16:29     & \\textbf{  BIC                } &  243.331    \\\\\n",
       "\\textbf{Sample:}                 &        0         & \\textbf{  HQIC               } &  242.406    \\\\\n",
       "\\textbf{}                        &       - 29       & \\textbf{                     } &             \\\\\n",
       "\\textbf{Covariance Type:}        &       opg        & \\textbf{                     } &             \\\\\n",
       "\\bottomrule\n",
       "\\end{tabular}\n",
       "\\begin{tabular}{lcccccc}\n",
       "                & \\textbf{coef} & \\textbf{std err} & \\textbf{z} & \\textbf{P$> |$z$|$} & \\textbf{[0.025} & \\textbf{0.975]}  \\\\\n",
       "\\midrule\n",
       "\\textbf{sigma2} &     309.0711  &       86.060     &     3.591  &         0.000        &      140.397    &      477.746     \\\\\n",
       "\\bottomrule\n",
       "\\end{tabular}\n",
       "\\begin{tabular}{lclc}\n",
       "\\textbf{Ljung-Box (L1) (Q):}     & 0.96 & \\textbf{  Jarque-Bera (JB):  } &  2.53  \\\\\n",
       "\\textbf{Prob(Q):}                & 0.33 & \\textbf{  Prob(JB):          } &  0.28  \\\\\n",
       "\\textbf{Heteroskedasticity (H):} & 1.49 & \\textbf{  Skew:              } & -0.71  \\\\\n",
       "\\textbf{Prob(H) (two-sided):}    & 0.56 & \\textbf{  Kurtosis:          } &  3.41  \\\\\n",
       "\\bottomrule\n",
       "\\end{tabular}\n",
       "%\\caption{SARIMAX Results}\n",
       "\\end{center}\n",
       "\n",
       "Warnings: \\newline\n",
       " [1] Covariance matrix calculated using the outer product of gradients (complex-step)."
      ],
      "text/plain": [
       "<class 'statsmodels.iolib.summary.Summary'>\n",
       "\"\"\"\n",
       "                               SARIMAX Results                                \n",
       "==============================================================================\n",
       "Dep. Variable:                      y   No. Observations:                   29\n",
       "Model:               SARIMAX(0, 1, 0)   Log Likelihood                -119.999\n",
       "Date:                Thu, 30 Nov 2023   AIC                            241.999\n",
       "Time:                        11:16:29   BIC                            243.331\n",
       "Sample:                             0   HQIC                           242.406\n",
       "                                 - 29                                         \n",
       "Covariance Type:                  opg                                         \n",
       "==============================================================================\n",
       "                 coef    std err          z      P>|z|      [0.025      0.975]\n",
       "------------------------------------------------------------------------------\n",
       "sigma2       309.0711     86.060      3.591      0.000     140.397     477.746\n",
       "===================================================================================\n",
       "Ljung-Box (L1) (Q):                   0.96   Jarque-Bera (JB):                 2.53\n",
       "Prob(Q):                              0.33   Prob(JB):                         0.28\n",
       "Heteroskedasticity (H):               1.49   Skew:                            -0.71\n",
       "Prob(H) (two-sided):                  0.56   Kurtosis:                         3.41\n",
       "===================================================================================\n",
       "\n",
       "Warnings:\n",
       "[1] Covariance matrix calculated using the outer product of gradients (complex-step).\n",
       "\"\"\""
      ]
     },
     "execution_count": 27,
     "metadata": {},
     "output_type": "execute_result"
    }
   ],
   "source": [
    "from pmdarima import auto_arima\n",
    "stepwise_fit = auto_arima(hosp_stay['Hospital_Stay'], trace=True,suppress_warnings=True)\n",
    "stepwise_fit.summary()"
   ]
  },
  {
   "cell_type": "code",
   "execution_count": 28,
   "id": "d7d69f8c",
   "metadata": {
    "execution": {
     "iopub.execute_input": "2023-11-30T11:16:29.476639Z",
     "iopub.status.busy": "2023-11-30T11:16:29.476238Z",
     "iopub.status.idle": "2023-11-30T11:16:29.482527Z",
     "shell.execute_reply": "2023-11-30T11:16:29.481890Z"
    },
    "papermill": {
     "duration": 0.028687,
     "end_time": "2023-11-30T11:16:29.484341",
     "exception": false,
     "start_time": "2023-11-30T11:16:29.455654",
     "status": "completed"
    },
    "tags": []
   },
   "outputs": [],
   "source": [
    "from statsmodels.tsa.arima_model import ARIMA"
   ]
  },
  {
   "cell_type": "code",
   "execution_count": 29,
   "id": "f011b813",
   "metadata": {
    "execution": {
     "iopub.execute_input": "2023-11-30T11:16:29.525621Z",
     "iopub.status.busy": "2023-11-30T11:16:29.524637Z",
     "iopub.status.idle": "2023-11-30T11:16:39.022265Z",
     "shell.execute_reply": "2023-11-30T11:16:39.020227Z"
    },
    "papermill": {
     "duration": 9.520923,
     "end_time": "2023-11-30T11:16:39.024378",
     "exception": false,
     "start_time": "2023-11-30T11:16:29.503455",
     "status": "completed"
    },
    "tags": []
   },
   "outputs": [
    {
     "name": "stdout",
     "output_type": "stream",
     "text": [
      "Requirement already satisfied: statsmodels in /opt/conda/lib/python3.10/site-packages (0.14.0)\r\n",
      "Requirement already satisfied: numpy>=1.18 in /opt/conda/lib/python3.10/site-packages (from statsmodels) (1.23.5)\r\n",
      "Requirement already satisfied: scipy!=1.9.2,>=1.4 in /opt/conda/lib/python3.10/site-packages (from statsmodels) (1.11.2)\r\n",
      "Requirement already satisfied: pandas>=1.0 in /opt/conda/lib/python3.10/site-packages (from statsmodels) (2.0.3)\r\n",
      "Requirement already satisfied: patsy>=0.5.2 in /opt/conda/lib/python3.10/site-packages (from statsmodels) (0.5.3)\r\n",
      "Requirement already satisfied: packaging>=21.3 in /opt/conda/lib/python3.10/site-packages (from statsmodels) (21.3)\r\n",
      "Requirement already satisfied: pyparsing!=3.0.5,>=2.0.2 in /opt/conda/lib/python3.10/site-packages (from packaging>=21.3->statsmodels) (3.0.9)\r\n",
      "Requirement already satisfied: python-dateutil>=2.8.2 in /opt/conda/lib/python3.10/site-packages (from pandas>=1.0->statsmodels) (2.8.2)\r\n",
      "Requirement already satisfied: pytz>=2020.1 in /opt/conda/lib/python3.10/site-packages (from pandas>=1.0->statsmodels) (2023.3)\r\n",
      "Requirement already satisfied: tzdata>=2022.1 in /opt/conda/lib/python3.10/site-packages (from pandas>=1.0->statsmodels) (2023.3)\r\n",
      "Requirement already satisfied: six in /opt/conda/lib/python3.10/site-packages (from patsy>=0.5.2->statsmodels) (1.16.0)\r\n",
      "Note: you may need to restart the kernel to use updated packages.\n"
     ]
    }
   ],
   "source": [
    "pip install statsmodels"
   ]
  },
  {
   "cell_type": "code",
   "execution_count": 30,
   "id": "dfe35782",
   "metadata": {
    "execution": {
     "iopub.execute_input": "2023-11-30T11:16:39.064709Z",
     "iopub.status.busy": "2023-11-30T11:16:39.064280Z",
     "iopub.status.idle": "2023-11-30T11:16:39.080640Z",
     "shell.execute_reply": "2023-11-30T11:16:39.079056Z"
    },
    "papermill": {
     "duration": 0.039131,
     "end_time": "2023-11-30T11:16:39.083243",
     "exception": false,
     "start_time": "2023-11-30T11:16:39.044112",
     "status": "completed"
    },
    "tags": []
   },
   "outputs": [
    {
     "data": {
      "text/html": [
       "<div>\n",
       "<style scoped>\n",
       "    .dataframe tbody tr th:only-of-type {\n",
       "        vertical-align: middle;\n",
       "    }\n",
       "\n",
       "    .dataframe tbody tr th {\n",
       "        vertical-align: top;\n",
       "    }\n",
       "\n",
       "    .dataframe thead th {\n",
       "        text-align: right;\n",
       "    }\n",
       "</style>\n",
       "<table border=\"1\" class=\"dataframe\">\n",
       "  <thead>\n",
       "    <tr style=\"text-align: right;\">\n",
       "      <th></th>\n",
       "      <th>Hospital_Stay</th>\n",
       "    </tr>\n",
       "    <tr>\n",
       "      <th>Time</th>\n",
       "      <th></th>\n",
       "    </tr>\n",
       "  </thead>\n",
       "  <tbody>\n",
       "    <tr>\n",
       "      <th>1990</th>\n",
       "      <td>38.3</td>\n",
       "    </tr>\n",
       "    <tr>\n",
       "      <th>1991</th>\n",
       "      <td>38.6</td>\n",
       "    </tr>\n",
       "    <tr>\n",
       "      <th>1992</th>\n",
       "      <td>54.3</td>\n",
       "    </tr>\n",
       "    <tr>\n",
       "      <th>1993</th>\n",
       "      <td>71.2</td>\n",
       "    </tr>\n",
       "    <tr>\n",
       "      <th>1994</th>\n",
       "      <td>64.6</td>\n",
       "    </tr>\n",
       "    <tr>\n",
       "      <th>1995</th>\n",
       "      <td>63.2</td>\n",
       "    </tr>\n",
       "    <tr>\n",
       "      <th>1996</th>\n",
       "      <td>87.8</td>\n",
       "    </tr>\n",
       "    <tr>\n",
       "      <th>1997</th>\n",
       "      <td>74.3</td>\n",
       "    </tr>\n",
       "    <tr>\n",
       "      <th>1998</th>\n",
       "      <td>55.0</td>\n",
       "    </tr>\n",
       "    <tr>\n",
       "      <th>1999</th>\n",
       "      <td>86.6</td>\n",
       "    </tr>\n",
       "    <tr>\n",
       "      <th>2000</th>\n",
       "      <td>102.9</td>\n",
       "    </tr>\n",
       "    <tr>\n",
       "      <th>2001</th>\n",
       "      <td>110.3</td>\n",
       "    </tr>\n",
       "    <tr>\n",
       "      <th>2002</th>\n",
       "      <td>134.7</td>\n",
       "    </tr>\n",
       "    <tr>\n",
       "      <th>2003</th>\n",
       "      <td>139.4</td>\n",
       "    </tr>\n",
       "    <tr>\n",
       "      <th>2004</th>\n",
       "      <td>141.8</td>\n",
       "    </tr>\n",
       "    <tr>\n",
       "      <th>2005</th>\n",
       "      <td>157.4</td>\n",
       "    </tr>\n",
       "    <tr>\n",
       "      <th>2006</th>\n",
       "      <td>173.6</td>\n",
       "    </tr>\n",
       "    <tr>\n",
       "      <th>2007</th>\n",
       "      <td>170.0</td>\n",
       "    </tr>\n",
       "    <tr>\n",
       "      <th>2008</th>\n",
       "      <td>178.7</td>\n",
       "    </tr>\n",
       "    <tr>\n",
       "      <th>2009</th>\n",
       "      <td>161.7</td>\n",
       "    </tr>\n",
       "    <tr>\n",
       "      <th>2010</th>\n",
       "      <td>183.2</td>\n",
       "    </tr>\n",
       "    <tr>\n",
       "      <th>2011</th>\n",
       "      <td>201.5</td>\n",
       "    </tr>\n",
       "  </tbody>\n",
       "</table>\n",
       "</div>"
      ],
      "text/plain": [
       "      Hospital_Stay\n",
       "Time               \n",
       "1990           38.3\n",
       "1991           38.6\n",
       "1992           54.3\n",
       "1993           71.2\n",
       "1994           64.6\n",
       "1995           63.2\n",
       "1996           87.8\n",
       "1997           74.3\n",
       "1998           55.0\n",
       "1999           86.6\n",
       "2000          102.9\n",
       "2001          110.3\n",
       "2002          134.7\n",
       "2003          139.4\n",
       "2004          141.8\n",
       "2005          157.4\n",
       "2006          173.6\n",
       "2007          170.0\n",
       "2008          178.7\n",
       "2009          161.7\n",
       "2010          183.2\n",
       "2011          201.5"
      ]
     },
     "execution_count": 30,
     "metadata": {},
     "output_type": "execute_result"
    }
   ],
   "source": [
    "train=hosp_stay.iloc[:22]\n",
    "test=hosp_stay.iloc[22:]\n",
    "train"
   ]
  },
  {
   "cell_type": "code",
   "execution_count": 31,
   "id": "899062df",
   "metadata": {
    "execution": {
     "iopub.execute_input": "2023-11-30T11:16:39.126770Z",
     "iopub.status.busy": "2023-11-30T11:16:39.126349Z",
     "iopub.status.idle": "2023-11-30T11:16:39.131976Z",
     "shell.execute_reply": "2023-11-30T11:16:39.130431Z"
    },
    "papermill": {
     "duration": 0.029971,
     "end_time": "2023-11-30T11:16:39.134577",
     "exception": false,
     "start_time": "2023-11-30T11:16:39.104606",
     "status": "completed"
    },
    "tags": []
   },
   "outputs": [],
   "source": [
    "# model=ARIMA(train['Hospital_Stay'])"
   ]
  },
  {
   "cell_type": "code",
   "execution_count": 32,
   "id": "0bbec02b",
   "metadata": {
    "execution": {
     "iopub.execute_input": "2023-11-30T11:16:39.176984Z",
     "iopub.status.busy": "2023-11-30T11:16:39.176546Z",
     "iopub.status.idle": "2023-11-30T11:16:39.184998Z",
     "shell.execute_reply": "2023-11-30T11:16:39.184228Z"
    },
    "papermill": {
     "duration": 0.032633,
     "end_time": "2023-11-30T11:16:39.187499",
     "exception": false,
     "start_time": "2023-11-30T11:16:39.154866",
     "status": "completed"
    },
    "tags": []
   },
   "outputs": [
    {
     "name": "stdout",
     "output_type": "stream",
     "text": [
      "      Hospital_Stay\n",
      "Time               \n",
      "1990           38.3\n",
      "1991           38.6\n",
      "1992           54.3\n",
      "1993           71.2\n",
      "1994           64.6\n",
      "1995           63.2\n",
      "1996           87.8\n",
      "1997           74.3\n",
      "1998           55.0\n",
      "1999           86.6\n",
      "2000          102.9\n",
      "2001          110.3\n",
      "2002          134.7\n",
      "2003          139.4\n",
      "2004          141.8\n",
      "2005          157.4\n",
      "2006          173.6\n",
      "2007          170.0\n",
      "2008          178.7\n",
      "2009          161.7\n",
      "2010          183.2\n",
      "2011          201.5\n",
      "2012          186.2\n",
      "2013          184.7\n",
      "2014          187.6\n",
      "2015          169.7\n",
      "2016          160.6\n",
      "2017          183.4\n",
      "2018          137.3\n"
     ]
    }
   ],
   "source": [
    "print(hosp_stay)"
   ]
  },
  {
   "cell_type": "code",
   "execution_count": 33,
   "id": "bb60f3ed",
   "metadata": {
    "execution": {
     "iopub.execute_input": "2023-11-30T11:16:39.228226Z",
     "iopub.status.busy": "2023-11-30T11:16:39.227852Z",
     "iopub.status.idle": "2023-11-30T11:16:39.398715Z",
     "shell.execute_reply": "2023-11-30T11:16:39.397786Z"
    },
    "papermill": {
     "duration": 0.193517,
     "end_time": "2023-11-30T11:16:39.400858",
     "exception": false,
     "start_time": "2023-11-30T11:16:39.207341",
     "status": "completed"
    },
    "tags": []
   },
   "outputs": [
    {
     "data": {
      "text/html": [
       "<table class=\"simpletable\">\n",
       "<caption>SARIMAX Results</caption>\n",
       "<tr>\n",
       "  <th>Dep. Variable:</th>     <td>Hospital_Stay</td>  <th>  No. Observations:  </th>   <td>22</td>   \n",
       "</tr>\n",
       "<tr>\n",
       "  <th>Model:</th>            <td>ARIMA(2, 1, 2)</td>  <th>  Log Likelihood     </th> <td>-84.888</td>\n",
       "</tr>\n",
       "<tr>\n",
       "  <th>Date:</th>            <td>Thu, 30 Nov 2023</td> <th>  AIC                </th> <td>179.776</td>\n",
       "</tr>\n",
       "<tr>\n",
       "  <th>Time:</th>                <td>11:16:39</td>     <th>  BIC                </th> <td>184.999</td>\n",
       "</tr>\n",
       "<tr>\n",
       "  <th>Sample:</th>                  <td>0</td>        <th>  HQIC               </th> <td>180.910</td>\n",
       "</tr>\n",
       "<tr>\n",
       "  <th></th>                       <td> - 22</td>      <th>                     </th>    <td> </td>   \n",
       "</tr>\n",
       "<tr>\n",
       "  <th>Covariance Type:</th>        <td>opg</td>       <th>                     </th>    <td> </td>   \n",
       "</tr>\n",
       "</table>\n",
       "<table class=\"simpletable\">\n",
       "<tr>\n",
       "     <td></td>       <th>coef</th>     <th>std err</th>      <th>z</th>      <th>P>|z|</th>  <th>[0.025</th>    <th>0.975]</th>  \n",
       "</tr>\n",
       "<tr>\n",
       "  <th>ar.L1</th>  <td>   -1.0539</td> <td>    0.196</td> <td>   -5.366</td> <td> 0.000</td> <td>   -1.439</td> <td>   -0.669</td>\n",
       "</tr>\n",
       "<tr>\n",
       "  <th>ar.L2</th>  <td>   -0.8572</td> <td>    0.247</td> <td>   -3.464</td> <td> 0.001</td> <td>   -1.342</td> <td>   -0.372</td>\n",
       "</tr>\n",
       "<tr>\n",
       "  <th>ma.L1</th>  <td>    1.4271</td> <td>   68.492</td> <td>    0.021</td> <td> 0.983</td> <td> -132.814</td> <td>  135.668</td>\n",
       "</tr>\n",
       "<tr>\n",
       "  <th>ma.L2</th>  <td>    0.9993</td> <td>   95.987</td> <td>    0.010</td> <td> 0.992</td> <td> -187.132</td> <td>  189.131</td>\n",
       "</tr>\n",
       "<tr>\n",
       "  <th>sigma2</th> <td>  158.4106</td> <td> 1.52e+04</td> <td>    0.010</td> <td> 0.992</td> <td>-2.96e+04</td> <td> 2.99e+04</td>\n",
       "</tr>\n",
       "</table>\n",
       "<table class=\"simpletable\">\n",
       "<tr>\n",
       "  <th>Ljung-Box (L1) (Q):</th>     <td>2.01</td> <th>  Jarque-Bera (JB):  </th> <td>0.71</td> \n",
       "</tr>\n",
       "<tr>\n",
       "  <th>Prob(Q):</th>                <td>0.16</td> <th>  Prob(JB):          </th> <td>0.70</td> \n",
       "</tr>\n",
       "<tr>\n",
       "  <th>Heteroskedasticity (H):</th> <td>1.47</td> <th>  Skew:              </th> <td>-0.14</td>\n",
       "</tr>\n",
       "<tr>\n",
       "  <th>Prob(H) (two-sided):</th>    <td>0.62</td> <th>  Kurtosis:          </th> <td>2.14</td> \n",
       "</tr>\n",
       "</table><br/><br/>Warnings:<br/>[1] Covariance matrix calculated using the outer product of gradients (complex-step)."
      ],
      "text/latex": [
       "\\begin{center}\n",
       "\\begin{tabular}{lclc}\n",
       "\\toprule\n",
       "\\textbf{Dep. Variable:}          &  Hospital\\_Stay  & \\textbf{  No. Observations:  } &     22      \\\\\n",
       "\\textbf{Model:}                  &  ARIMA(2, 1, 2)  & \\textbf{  Log Likelihood     } &  -84.888    \\\\\n",
       "\\textbf{Date:}                   & Thu, 30 Nov 2023 & \\textbf{  AIC                } &  179.776    \\\\\n",
       "\\textbf{Time:}                   &     11:16:39     & \\textbf{  BIC                } &  184.999    \\\\\n",
       "\\textbf{Sample:}                 &        0         & \\textbf{  HQIC               } &  180.910    \\\\\n",
       "\\textbf{}                        &       - 22       & \\textbf{                     } &             \\\\\n",
       "\\textbf{Covariance Type:}        &       opg        & \\textbf{                     } &             \\\\\n",
       "\\bottomrule\n",
       "\\end{tabular}\n",
       "\\begin{tabular}{lcccccc}\n",
       "                & \\textbf{coef} & \\textbf{std err} & \\textbf{z} & \\textbf{P$> |$z$|$} & \\textbf{[0.025} & \\textbf{0.975]}  \\\\\n",
       "\\midrule\n",
       "\\textbf{ar.L1}  &      -1.0539  &        0.196     &    -5.366  &         0.000        &       -1.439    &       -0.669     \\\\\n",
       "\\textbf{ar.L2}  &      -0.8572  &        0.247     &    -3.464  &         0.001        &       -1.342    &       -0.372     \\\\\n",
       "\\textbf{ma.L1}  &       1.4271  &       68.492     &     0.021  &         0.983        &     -132.814    &      135.668     \\\\\n",
       "\\textbf{ma.L2}  &       0.9993  &       95.987     &     0.010  &         0.992        &     -187.132    &      189.131     \\\\\n",
       "\\textbf{sigma2} &     158.4106  &     1.52e+04     &     0.010  &         0.992        &    -2.96e+04    &     2.99e+04     \\\\\n",
       "\\bottomrule\n",
       "\\end{tabular}\n",
       "\\begin{tabular}{lclc}\n",
       "\\textbf{Ljung-Box (L1) (Q):}     & 2.01 & \\textbf{  Jarque-Bera (JB):  } &  0.71  \\\\\n",
       "\\textbf{Prob(Q):}                & 0.16 & \\textbf{  Prob(JB):          } &  0.70  \\\\\n",
       "\\textbf{Heteroskedasticity (H):} & 1.47 & \\textbf{  Skew:              } & -0.14  \\\\\n",
       "\\textbf{Prob(H) (two-sided):}    & 0.62 & \\textbf{  Kurtosis:          } &  2.14  \\\\\n",
       "\\bottomrule\n",
       "\\end{tabular}\n",
       "%\\caption{SARIMAX Results}\n",
       "\\end{center}\n",
       "\n",
       "Warnings: \\newline\n",
       " [1] Covariance matrix calculated using the outer product of gradients (complex-step)."
      ],
      "text/plain": [
       "<class 'statsmodels.iolib.summary.Summary'>\n",
       "\"\"\"\n",
       "                               SARIMAX Results                                \n",
       "==============================================================================\n",
       "Dep. Variable:          Hospital_Stay   No. Observations:                   22\n",
       "Model:                 ARIMA(2, 1, 2)   Log Likelihood                 -84.888\n",
       "Date:                Thu, 30 Nov 2023   AIC                            179.776\n",
       "Time:                        11:16:39   BIC                            184.999\n",
       "Sample:                             0   HQIC                           180.910\n",
       "                                 - 22                                         \n",
       "Covariance Type:                  opg                                         \n",
       "==============================================================================\n",
       "                 coef    std err          z      P>|z|      [0.025      0.975]\n",
       "------------------------------------------------------------------------------\n",
       "ar.L1         -1.0539      0.196     -5.366      0.000      -1.439      -0.669\n",
       "ar.L2         -0.8572      0.247     -3.464      0.001      -1.342      -0.372\n",
       "ma.L1          1.4271     68.492      0.021      0.983    -132.814     135.668\n",
       "ma.L2          0.9993     95.987      0.010      0.992    -187.132     189.131\n",
       "sigma2       158.4106   1.52e+04      0.010      0.992   -2.96e+04    2.99e+04\n",
       "===================================================================================\n",
       "Ljung-Box (L1) (Q):                   2.01   Jarque-Bera (JB):                 0.71\n",
       "Prob(Q):                              0.16   Prob(JB):                         0.70\n",
       "Heteroskedasticity (H):               1.47   Skew:                            -0.14\n",
       "Prob(H) (two-sided):                  0.62   Kurtosis:                         2.14\n",
       "===================================================================================\n",
       "\n",
       "Warnings:\n",
       "[1] Covariance matrix calculated using the outer product of gradients (complex-step).\n",
       "\"\"\""
      ]
     },
     "execution_count": 33,
     "metadata": {},
     "output_type": "execute_result"
    }
   ],
   "source": [
    "import statsmodels.api as sm\n",
    "from statsmodels.tsa.arima.model import ARIMA\n",
    "\n",
    "model = ARIMA(train['Hospital_Stay'], order=(2,1,2))\n",
    "model = model.fit()\n",
    "model.summary()\n"
   ]
  },
  {
   "cell_type": "code",
   "execution_count": 34,
   "id": "3e26928b",
   "metadata": {
    "execution": {
     "iopub.execute_input": "2023-11-30T11:16:39.458652Z",
     "iopub.status.busy": "2023-11-30T11:16:39.457707Z",
     "iopub.status.idle": "2023-11-30T11:16:39.470190Z",
     "shell.execute_reply": "2023-11-30T11:16:39.468775Z"
    },
    "papermill": {
     "duration": 0.044418,
     "end_time": "2023-11-30T11:16:39.472252",
     "exception": false,
     "start_time": "2023-11-30T11:16:39.427834",
     "status": "completed"
    },
    "tags": []
   },
   "outputs": [
    {
     "name": "stdout",
     "output_type": "stream",
     "text": [
      "22    192.186340\n",
      "23    188.965735\n",
      "24    200.343866\n",
      "25    191.112980\n",
      "26    191.088035\n",
      "27    199.027236\n",
      "28    190.681324\n",
      "Name: ARIMA Predictions, dtype: float64\n"
     ]
    }
   ],
   "source": [
    "start=len(train)\n",
    "end=len(train)+len(test)-1\n",
    "pred=model.predict(start=start,end=end,typ='levels').rename('ARIMA Predictions')\n",
    "print(pred)\n",
    "# pred.plot(legend=True)\n",
    "# test['Hospital_Stay'].plot(legend=True)"
   ]
  },
  {
   "cell_type": "code",
   "execution_count": 35,
   "id": "ddf6bbeb",
   "metadata": {
    "execution": {
     "iopub.execute_input": "2023-11-30T11:16:39.516447Z",
     "iopub.status.busy": "2023-11-30T11:16:39.515639Z",
     "iopub.status.idle": "2023-11-30T11:16:39.868068Z",
     "shell.execute_reply": "2023-11-30T11:16:39.866153Z"
    },
    "papermill": {
     "duration": 0.375964,
     "end_time": "2023-11-30T11:16:39.870503",
     "exception": false,
     "start_time": "2023-11-30T11:16:39.494539",
     "status": "completed"
    },
    "tags": []
   },
   "outputs": [
    {
     "data": {
      "text/plain": [
       "<Axes: xlabel='Time'>"
      ]
     },
     "execution_count": 35,
     "metadata": {},
     "output_type": "execute_result"
    },
    {
     "data": {
      "image/png": "[encoded data removed]",
      "text/plain": [
       "<Figure size 640x480 with 1 Axes>"
      ]
     },
     "metadata": {},
     "output_type": "display_data"
    }
   ],
   "source": [
    "pred.plot(legend=True)\n",
    "test['Hospital_Stay'].plot(legend=True)"
   ]
  },
  {
   "cell_type": "code",
   "execution_count": 36,
   "id": "0c177aa9",
   "metadata": {
    "execution": {
     "iopub.execute_input": "2023-11-30T11:16:39.913740Z",
     "iopub.status.busy": "2023-11-30T11:16:39.912959Z",
     "iopub.status.idle": "2023-11-30T11:16:40.199564Z",
     "shell.execute_reply": "2023-11-30T11:16:40.198012Z"
    },
    "papermill": {
     "duration": 0.310946,
     "end_time": "2023-11-30T11:16:40.201779",
     "exception": false,
     "start_time": "2023-11-30T11:16:39.890833",
     "status": "completed"
    },
    "tags": []
   },
   "outputs": [
    {
     "data": {
      "text/plain": [
       "<Axes: >"
      ]
     },
     "execution_count": 36,
     "metadata": {},
     "output_type": "execute_result"
    },
    {
     "data": {
      "image/png": "[encoded data removed]",
      "text/plain": [
       "<Figure size 1200x500 with 1 Axes>"
      ]
     },
     "metadata": {},
     "output_type": "display_data"
    }
   ],
   "source": [
    "df['Hospital_Beds'].plot(figsize=(12,5))"
   ]
  },
  {
   "cell_type": "code",
   "execution_count": 37,
   "id": "6db14a01",
   "metadata": {
    "execution": {
     "iopub.execute_input": "2023-11-30T11:16:40.247004Z",
     "iopub.status.busy": "2023-11-30T11:16:40.246545Z",
     "iopub.status.idle": "2023-11-30T11:16:40.261426Z",
     "shell.execute_reply": "2023-11-30T11:16:40.259721Z"
    },
    "papermill": {
     "duration": 0.039767,
     "end_time": "2023-11-30T11:16:40.263577",
     "exception": false,
     "start_time": "2023-11-30T11:16:40.223810",
     "status": "completed"
    },
    "tags": []
   },
   "outputs": [
    {
     "name": "stdout",
     "output_type": "stream",
     "text": [
      "    Time  Hospital_Beds\n",
      "0   1990           3.46\n",
      "1   1991           3.45\n",
      "2   1992           7.26\n",
      "3   1993          10.00\n",
      "4   1994          12.00\n",
      "5   1995          14.98\n",
      "6   1996          41.67\n",
      "7   1997          43.38\n",
      "8   1998          30.57\n",
      "9   1999          72.61\n",
      "10  2000          65.18\n",
      "11  2001          93.30\n",
      "12  2002         128.25\n",
      "13  2003         142.03\n",
      "14  2004         154.95\n",
      "15  2005         148.16\n",
      "16  2006         207.95\n",
      "17  2007         240.76\n",
      "18  2008         271.13\n",
      "19  2009         261.65\n",
      "20  2010         314.47\n",
      "21  2011         378.50\n",
      "22  2012         376.68\n",
      "23  2013         395.99\n",
      "24  2014         445.39\n",
      "25  2015         403.48\n",
      "26  2016         405.38\n",
      "27  2017         479.58\n",
      "28  2018         320.72\n"
     ]
    }
   ],
   "source": [
    "df = pd.DataFrame(df)\n",
    "\n",
    "result = df.groupby('Time')['Hospital_Beds'].sum().reset_index()\n",
    "hospital_beds=pd.DataFrame(result)\n",
    "print(result)"
   ]
  },
  {
   "cell_type": "code",
   "execution_count": 38,
   "id": "fe637552",
   "metadata": {
    "execution": {
     "iopub.execute_input": "2023-11-30T11:16:40.308989Z",
     "iopub.status.busy": "2023-11-30T11:16:40.308538Z",
     "iopub.status.idle": "2023-11-30T11:16:40.335966Z",
     "shell.execute_reply": "2023-11-30T11:16:40.334530Z"
    },
    "papermill": {
     "duration": 0.053037,
     "end_time": "2023-11-30T11:16:40.338246",
     "exception": false,
     "start_time": "2023-11-30T11:16:40.285209",
     "status": "completed"
    },
    "tags": []
   },
   "outputs": [
    {
     "name": "stdout",
     "output_type": "stream",
     "text": [
      "1. ADF :  -5.957769803549919\n",
      "2. P-Value :  2.0735468076741807e-07\n",
      "3. Num Of Lags :  0\n",
      "4. Num Of Observations Used For ADF Regression: 517\n",
      "5. Critical Values :\n",
      "\t 1% :  -3.443061925077973\n",
      "\t 5% :  -2.8671466525252014\n",
      "\t 10% :  -2.5697561378507907\n"
     ]
    }
   ],
   "source": [
    "from statsmodels.tsa.stattools import adfuller\n",
    "def ad_test(dataset):\n",
    "     dftest = adfuller(dataset, autolag = 'AIC')\n",
    "     print(\"1. ADF : \",dftest[0])\n",
    "     print(\"2. P-Value : \", dftest[1])\n",
    "     print(\"3. Num Of Lags : \", dftest[2])\n",
    "     print(\"4. Num Of Observations Used For ADF Regression:\",      dftest[3])\n",
    "     print(\"5. Critical Values :\")\n",
    "     for key, val in dftest[4].items():\n",
    "         print(\"\\t\",key, \": \", val)\n",
    "ad_test(df['Hospital_Beds'])\n"
   ]
  },
  {
   "cell_type": "code",
   "execution_count": 39,
   "id": "8ea953d3",
   "metadata": {
    "execution": {
     "iopub.execute_input": "2023-11-30T11:16:40.399012Z",
     "iopub.status.busy": "2023-11-30T11:16:40.397599Z",
     "iopub.status.idle": "2023-11-30T11:16:50.036946Z",
     "shell.execute_reply": "2023-11-30T11:16:50.034661Z"
    },
    "papermill": {
     "duration": 9.67244,
     "end_time": "2023-11-30T11:16:50.039731",
     "exception": false,
     "start_time": "2023-11-30T11:16:40.367291",
     "status": "completed"
    },
    "tags": []
   },
   "outputs": [
    {
     "name": "stdout",
     "output_type": "stream",
     "text": [
      "Requirement already satisfied: pmdarima in /opt/conda/lib/python3.10/site-packages (2.0.4)\r\n",
      "Requirement already satisfied: joblib>=0.11 in /opt/conda/lib/python3.10/site-packages (from pmdarima) (1.3.2)\r\n",
      "Requirement already satisfied: Cython!=0.29.18,!=0.29.31,>=0.29 in /opt/conda/lib/python3.10/site-packages (from pmdarima) (0.29.35)\r\n",
      "Requirement already satisfied: numpy>=1.21.2 in /opt/conda/lib/python3.10/site-packages (from pmdarima) (1.23.5)\r\n",
      "Requirement already satisfied: pandas>=0.19 in /opt/conda/lib/python3.10/site-packages (from pmdarima) (2.0.3)\r\n",
      "Requirement already satisfied: scikit-learn>=0.22 in /opt/conda/lib/python3.10/site-packages (from pmdarima) (1.2.2)\r\n",
      "Requirement already satisfied: scipy>=1.3.2 in /opt/conda/lib/python3.10/site-packages (from pmdarima) (1.11.2)\r\n",
      "Requirement already satisfied: statsmodels>=0.13.2 in /opt/conda/lib/python3.10/site-packages (from pmdarima) (0.14.0)\r\n",
      "Requirement already satisfied: urllib3 in /opt/conda/lib/python3.10/site-packages (from pmdarima) (1.26.15)\r\n",
      "Requirement already satisfied: setuptools!=50.0.0,>=38.6.0 in /opt/conda/lib/python3.10/site-packages (from pmdarima) (68.0.0)\r\n",
      "Requirement already satisfied: packaging>=17.1 in /opt/conda/lib/python3.10/site-packages (from pmdarima) (21.3)\r\n",
      "Requirement already satisfied: pyparsing!=3.0.5,>=2.0.2 in /opt/conda/lib/python3.10/site-packages (from packaging>=17.1->pmdarima) (3.0.9)\r\n",
      "Requirement already satisfied: python-dateutil>=2.8.2 in /opt/conda/lib/python3.10/site-packages (from pandas>=0.19->pmdarima) (2.8.2)\r\n",
      "Requirement already satisfied: pytz>=2020.1 in /opt/conda/lib/python3.10/site-packages (from pandas>=0.19->pmdarima) (2023.3)\r\n",
      "Requirement already satisfied: tzdata>=2022.1 in /opt/conda/lib/python3.10/site-packages (from pandas>=0.19->pmdarima) (2023.3)\r\n",
      "Requirement already satisfied: threadpoolctl>=2.0.0 in /opt/conda/lib/python3.10/site-packages (from scikit-learn>=0.22->pmdarima) (3.1.0)\r\n",
      "Requirement already satisfied: patsy>=0.5.2 in /opt/conda/lib/python3.10/site-packages (from statsmodels>=0.13.2->pmdarima) (0.5.3)\r\n",
      "Requirement already satisfied: six in /opt/conda/lib/python3.10/site-packages (from patsy>=0.5.2->statsmodels>=0.13.2->pmdarima) (1.16.0)\r\n"
     ]
    }
   ],
   "source": [
    "!pip install pmdarima"
   ]
  },
  {
   "cell_type": "code",
   "execution_count": null,
   "id": "f22bc64e",
   "metadata": {
    "papermill": {
     "duration": 0.021225,
     "end_time": "2023-11-30T11:16:50.083386",
     "exception": false,
     "start_time": "2023-11-30T11:16:50.062161",
     "status": "completed"
    },
    "tags": []
   },
   "outputs": [],
   "source": []
  },
  {
   "cell_type": "code",
   "execution_count": 40,
   "id": "267729f5",
   "metadata": {
    "execution": {
     "iopub.execute_input": "2023-11-30T11:16:50.131379Z",
     "iopub.status.busy": "2023-11-30T11:16:50.130126Z",
     "iopub.status.idle": "2023-11-30T11:16:51.004381Z",
     "shell.execute_reply": "2023-11-30T11:16:51.002768Z"
    },
    "papermill": {
     "duration": 0.901747,
     "end_time": "2023-11-30T11:16:51.006575",
     "exception": false,
     "start_time": "2023-11-30T11:16:50.104828",
     "status": "completed"
    },
    "tags": []
   },
   "outputs": [
    {
     "name": "stdout",
     "output_type": "stream",
     "text": [
      "Performing stepwise search to minimize aic\n",
      " ARIMA(2,0,2)(0,0,0)[0] intercept   : AIC=2976.430, Time=0.31 sec\n",
      " ARIMA(0,0,0)(0,0,0)[0] intercept   : AIC=3712.502, Time=0.02 sec\n",
      " ARIMA(1,0,0)(0,0,0)[0] intercept   : AIC=2972.194, Time=0.06 sec\n",
      " ARIMA(0,0,1)(0,0,0)[0] intercept   : AIC=3326.655, Time=0.07 sec\n",
      " ARIMA(0,0,0)(0,0,0)[0]             : AIC=4181.522, Time=0.01 sec\n",
      " ARIMA(2,0,0)(0,0,0)[0] intercept   : AIC=2973.740, Time=0.05 sec\n",
      " ARIMA(1,0,1)(0,0,0)[0] intercept   : AIC=2973.781, Time=0.05 sec\n",
      " ARIMA(2,0,1)(0,0,0)[0] intercept   : AIC=2974.920, Time=0.24 sec\n",
      " ARIMA(1,0,0)(0,0,0)[0]             : AIC=2991.479, Time=0.02 sec\n",
      "\n",
      "Best model:  ARIMA(1,0,0)(0,0,0)[0] intercept\n",
      "Total fit time: 0.846 seconds\n"
     ]
    },
    {
     "data": {
      "text/html": [
       "<table class=\"simpletable\">\n",
       "<caption>SARIMAX Results</caption>\n",
       "<tr>\n",
       "  <th>Dep. Variable:</th>           <td>y</td>        <th>  No. Observations:  </th>    <td>518</td>   \n",
       "</tr>\n",
       "<tr>\n",
       "  <th>Model:</th>           <td>SARIMAX(1, 0, 0)</td> <th>  Log Likelihood     </th> <td>-1483.097</td>\n",
       "</tr>\n",
       "<tr>\n",
       "  <th>Date:</th>            <td>Thu, 30 Nov 2023</td> <th>  AIC                </th> <td>2972.194</td> \n",
       "</tr>\n",
       "<tr>\n",
       "  <th>Time:</th>                <td>11:16:50</td>     <th>  BIC                </th> <td>2984.944</td> \n",
       "</tr>\n",
       "<tr>\n",
       "  <th>Sample:</th>                  <td>0</td>        <th>  HQIC               </th> <td>2977.189</td> \n",
       "</tr>\n",
       "<tr>\n",
       "  <th></th>                      <td> - 518</td>      <th>                     </th>     <td> </td>    \n",
       "</tr>\n",
       "<tr>\n",
       "  <th>Covariance Type:</th>        <td>opg</td>       <th>                     </th>     <td> </td>    \n",
       "</tr>\n",
       "</table>\n",
       "<table class=\"simpletable\">\n",
       "<tr>\n",
       "      <td></td>         <th>coef</th>     <th>std err</th>      <th>z</th>      <th>P>|z|</th>  <th>[0.025</th>    <th>0.975]</th>  \n",
       "</tr>\n",
       "<tr>\n",
       "  <th>intercept</th> <td>    1.3377</td> <td>    0.417</td> <td>    3.205</td> <td> 0.001</td> <td>    0.520</td> <td>    2.156</td>\n",
       "</tr>\n",
       "<tr>\n",
       "  <th>ar.L1</th>     <td>    0.8723</td> <td>    0.019</td> <td>   46.575</td> <td> 0.000</td> <td>    0.836</td> <td>    0.909</td>\n",
       "</tr>\n",
       "<tr>\n",
       "  <th>sigma2</th>    <td>   17.9143</td> <td>    0.581</td> <td>   30.828</td> <td> 0.000</td> <td>   16.775</td> <td>   19.053</td>\n",
       "</tr>\n",
       "</table>\n",
       "<table class=\"simpletable\">\n",
       "<tr>\n",
       "  <th>Ljung-Box (L1) (Q):</th>     <td>0.34</td> <th>  Jarque-Bera (JB):  </th> <td>41703.44</td>\n",
       "</tr>\n",
       "<tr>\n",
       "  <th>Prob(Q):</th>                <td>0.56</td> <th>  Prob(JB):          </th>   <td>0.00</td>  \n",
       "</tr>\n",
       "<tr>\n",
       "  <th>Heteroskedasticity (H):</th> <td>1.26</td> <th>  Skew:              </th>   <td>-4.99</td> \n",
       "</tr>\n",
       "<tr>\n",
       "  <th>Prob(H) (two-sided):</th>    <td>0.12</td> <th>  Kurtosis:          </th>   <td>45.81</td> \n",
       "</tr>\n",
       "</table><br/><br/>Warnings:<br/>[1] Covariance matrix calculated using the outer product of gradients (complex-step)."
      ],
      "text/latex": [
       "\\begin{center}\n",
       "\\begin{tabular}{lclc}\n",
       "\\toprule\n",
       "\\textbf{Dep. Variable:}          &        y         & \\textbf{  No. Observations:  } &    518      \\\\\n",
       "\\textbf{Model:}                  & SARIMAX(1, 0, 0) & \\textbf{  Log Likelihood     } & -1483.097   \\\\\n",
       "\\textbf{Date:}                   & Thu, 30 Nov 2023 & \\textbf{  AIC                } &  2972.194   \\\\\n",
       "\\textbf{Time:}                   &     11:16:50     & \\textbf{  BIC                } &  2984.944   \\\\\n",
       "\\textbf{Sample:}                 &        0         & \\textbf{  HQIC               } &  2977.189   \\\\\n",
       "\\textbf{}                        &       - 518      & \\textbf{                     } &             \\\\\n",
       "\\textbf{Covariance Type:}        &       opg        & \\textbf{                     } &             \\\\\n",
       "\\bottomrule\n",
       "\\end{tabular}\n",
       "\\begin{tabular}{lcccccc}\n",
       "                   & \\textbf{coef} & \\textbf{std err} & \\textbf{z} & \\textbf{P$> |$z$|$} & \\textbf{[0.025} & \\textbf{0.975]}  \\\\\n",
       "\\midrule\n",
       "\\textbf{intercept} &       1.3377  &        0.417     &     3.205  &         0.001        &        0.520    &        2.156     \\\\\n",
       "\\textbf{ar.L1}     &       0.8723  &        0.019     &    46.575  &         0.000        &        0.836    &        0.909     \\\\\n",
       "\\textbf{sigma2}    &      17.9143  &        0.581     &    30.828  &         0.000        &       16.775    &       19.053     \\\\\n",
       "\\bottomrule\n",
       "\\end{tabular}\n",
       "\\begin{tabular}{lclc}\n",
       "\\textbf{Ljung-Box (L1) (Q):}     & 0.34 & \\textbf{  Jarque-Bera (JB):  } & 41703.44  \\\\\n",
       "\\textbf{Prob(Q):}                & 0.56 & \\textbf{  Prob(JB):          } &   0.00    \\\\\n",
       "\\textbf{Heteroskedasticity (H):} & 1.26 & \\textbf{  Skew:              } &  -4.99    \\\\\n",
       "\\textbf{Prob(H) (two-sided):}    & 0.12 & \\textbf{  Kurtosis:          } &  45.81    \\\\\n",
       "\\bottomrule\n",
       "\\end{tabular}\n",
       "%\\caption{SARIMAX Results}\n",
       "\\end{center}\n",
       "\n",
       "Warnings: \\newline\n",
       " [1] Covariance matrix calculated using the outer product of gradients (complex-step)."
      ],
      "text/plain": [
       "<class 'statsmodels.iolib.summary.Summary'>\n",
       "\"\"\"\n",
       "                               SARIMAX Results                                \n",
       "==============================================================================\n",
       "Dep. Variable:                      y   No. Observations:                  518\n",
       "Model:               SARIMAX(1, 0, 0)   Log Likelihood               -1483.097\n",
       "Date:                Thu, 30 Nov 2023   AIC                           2972.194\n",
       "Time:                        11:16:50   BIC                           2984.944\n",
       "Sample:                             0   HQIC                          2977.189\n",
       "                                - 518                                         \n",
       "Covariance Type:                  opg                                         \n",
       "==============================================================================\n",
       "                 coef    std err          z      P>|z|      [0.025      0.975]\n",
       "------------------------------------------------------------------------------\n",
       "intercept      1.3377      0.417      3.205      0.001       0.520       2.156\n",
       "ar.L1          0.8723      0.019     46.575      0.000       0.836       0.909\n",
       "sigma2        17.9143      0.581     30.828      0.000      16.775      19.053\n",
       "===================================================================================\n",
       "Ljung-Box (L1) (Q):                   0.34   Jarque-Bera (JB):             41703.44\n",
       "Prob(Q):                              0.56   Prob(JB):                         0.00\n",
       "Heteroskedasticity (H):               1.26   Skew:                            -4.99\n",
       "Prob(H) (two-sided):                  0.12   Kurtosis:                        45.81\n",
       "===================================================================================\n",
       "\n",
       "Warnings:\n",
       "[1] Covariance matrix calculated using the outer product of gradients (complex-step).\n",
       "\"\"\""
      ]
     },
     "execution_count": 40,
     "metadata": {},
     "output_type": "execute_result"
    }
   ],
   "source": [
    "import pandas as pd\n",
    "from pmdarima import auto_arima\n",
    "hospital_beds = df['Hospital_Beds']\n",
    "\n",
    "stepwise_fit = auto_arima(hospital_beds, trace=True, suppress_warnings=True)\n",
    "stepwise_fit.summary()"
   ]
  },
  {
   "cell_type": "code",
   "execution_count": 41,
   "id": "1a464c3e",
   "metadata": {
    "execution": {
     "iopub.execute_input": "2023-11-30T11:16:51.065199Z",
     "iopub.status.busy": "2023-11-30T11:16:51.064860Z",
     "iopub.status.idle": "2023-11-30T11:16:51.074552Z",
     "shell.execute_reply": "2023-11-30T11:16:51.073328Z"
    },
    "papermill": {
     "duration": 0.040287,
     "end_time": "2023-11-30T11:16:51.076428",
     "exception": false,
     "start_time": "2023-11-30T11:16:51.036141",
     "status": "completed"
    },
    "tags": []
   },
   "outputs": [
    {
     "name": "stdout",
     "output_type": "stream",
     "text": [
      "(518,)\n",
      "0      1.43\n",
      "1      2.36\n",
      "2      2.89\n",
      "3      2.96\n",
      "4      3.53\n",
      "5      4.51\n",
      "6      6.01\n",
      "7      3.52\n",
      "8      3.79\n",
      "9      3.74\n",
      "10     3.70\n",
      "11     3.76\n",
      "12     4.26\n",
      "13     4.89\n",
      "14     5.72\n",
      "15     5.67\n",
      "16     5.60\n",
      "17     5.50\n",
      "18    13.84\n",
      "19    14.65\n",
      "20    14.49\n",
      "21    14.30\n",
      "Name: Hospital_Beds, dtype: float64\n",
      "22     14.15\n",
      "23      7.54\n",
      "24      8.53\n",
      "25      8.52\n",
      "26     11.01\n",
      "       ...  \n",
      "513    10.57\n",
      "514    11.02\n",
      "515    12.20\n",
      "516    12.37\n",
      "517    12.49\n",
      "Name: Hospital_Beds, Length: 496, dtype: float64\n"
     ]
    }
   ],
   "source": [
    "import pandas as pd\n",
    "\n",
    "Hospital_Beds = df['Hospital_Beds']\n",
    "\n",
    "print(Hospital_Beds.shape)\n",
    "train = Hospital_Beds.iloc[:22]\n",
    "test = Hospital_Beds.iloc[22:]\n",
    "print(train)\n",
    "print(test)\n"
   ]
  },
  {
   "cell_type": "code",
   "execution_count": 42,
   "id": "5e9dbde4",
   "metadata": {
    "execution": {
     "iopub.execute_input": "2023-11-30T11:16:51.122310Z",
     "iopub.status.busy": "2023-11-30T11:16:51.121631Z",
     "iopub.status.idle": "2023-11-30T11:17:00.897922Z",
     "shell.execute_reply": "2023-11-30T11:17:00.896373Z"
    },
    "papermill": {
     "duration": 9.801888,
     "end_time": "2023-11-30T11:17:00.900662",
     "exception": false,
     "start_time": "2023-11-30T11:16:51.098774",
     "status": "completed"
    },
    "tags": []
   },
   "outputs": [
    {
     "name": "stdout",
     "output_type": "stream",
     "text": [
      "Requirement already satisfied: statsmodels in /opt/conda/lib/python3.10/site-packages (0.14.0)\r\n",
      "Requirement already satisfied: numpy>=1.18 in /opt/conda/lib/python3.10/site-packages (from statsmodels) (1.23.5)\r\n",
      "Requirement already satisfied: scipy!=1.9.2,>=1.4 in /opt/conda/lib/python3.10/site-packages (from statsmodels) (1.11.2)\r\n",
      "Requirement already satisfied: pandas>=1.0 in /opt/conda/lib/python3.10/site-packages (from statsmodels) (2.0.3)\r\n",
      "Requirement already satisfied: patsy>=0.5.2 in /opt/conda/lib/python3.10/site-packages (from statsmodels) (0.5.3)\r\n",
      "Requirement already satisfied: packaging>=21.3 in /opt/conda/lib/python3.10/site-packages (from statsmodels) (21.3)\r\n",
      "Requirement already satisfied: pyparsing!=3.0.5,>=2.0.2 in /opt/conda/lib/python3.10/site-packages (from packaging>=21.3->statsmodels) (3.0.9)\r\n",
      "Requirement already satisfied: python-dateutil>=2.8.2 in /opt/conda/lib/python3.10/site-packages (from pandas>=1.0->statsmodels) (2.8.2)\r\n",
      "Requirement already satisfied: pytz>=2020.1 in /opt/conda/lib/python3.10/site-packages (from pandas>=1.0->statsmodels) (2023.3)\r\n",
      "Requirement already satisfied: tzdata>=2022.1 in /opt/conda/lib/python3.10/site-packages (from pandas>=1.0->statsmodels) (2023.3)\r\n",
      "Requirement already satisfied: six in /opt/conda/lib/python3.10/site-packages (from patsy>=0.5.2->statsmodels) (1.16.0)\r\n"
     ]
    }
   ],
   "source": [
    "!pip install statsmodels"
   ]
  },
  {
   "cell_type": "code",
   "execution_count": 43,
   "id": "d5e33d59",
   "metadata": {
    "execution": {
     "iopub.execute_input": "2023-11-30T11:17:00.949410Z",
     "iopub.status.busy": "2023-11-30T11:17:00.949003Z",
     "iopub.status.idle": "2023-11-30T11:17:00.961598Z",
     "shell.execute_reply": "2023-11-30T11:17:00.960082Z"
    },
    "papermill": {
     "duration": 0.039798,
     "end_time": "2023-11-30T11:17:00.963614",
     "exception": false,
     "start_time": "2023-11-30T11:17:00.923816",
     "status": "completed"
    },
    "tags": []
   },
   "outputs": [
    {
     "name": "stdout",
     "output_type": "stream",
     "text": [
      "    Time  Hospital_Beds\n",
      "0   1990           3.46\n",
      "1   1991           3.45\n",
      "2   1992           7.26\n",
      "3   1993          10.00\n",
      "4   1994          12.00\n",
      "5   1995          14.98\n",
      "6   1996          41.67\n",
      "7   1997          43.38\n",
      "8   1998          30.57\n",
      "9   1999          72.61\n",
      "10  2000          65.18\n",
      "11  2001          93.30\n",
      "12  2002         128.25\n",
      "13  2003         142.03\n",
      "14  2004         154.95\n",
      "15  2005         148.16\n",
      "16  2006         207.95\n",
      "17  2007         240.76\n",
      "18  2008         271.13\n",
      "19  2009         261.65\n",
      "20  2010         314.47\n",
      "21  2011         378.50\n",
      "22  2012         376.68\n",
      "23  2013         395.99\n",
      "24  2014         445.39\n",
      "25  2015         403.48\n",
      "26  2016         405.38\n",
      "27  2017         479.58\n",
      "28  2018         320.72\n"
     ]
    }
   ],
   "source": [
    "df = pd.DataFrame(df)\n",
    "\n",
    "result = df.groupby('Time')['Hospital_Beds'].sum().reset_index()\n",
    "hospital_beds=pd.DataFrame(result)\n",
    "print(result)"
   ]
  },
  {
   "cell_type": "code",
   "execution_count": 44,
   "id": "a7b5f929",
   "metadata": {
    "execution": {
     "iopub.execute_input": "2023-11-30T11:17:01.011277Z",
     "iopub.status.busy": "2023-11-30T11:17:01.010878Z",
     "iopub.status.idle": "2023-11-30T11:17:01.188697Z",
     "shell.execute_reply": "2023-11-30T11:17:01.187905Z"
    },
    "papermill": {
     "duration": 0.205451,
     "end_time": "2023-11-30T11:17:01.191902",
     "exception": false,
     "start_time": "2023-11-30T11:17:00.986451",
     "status": "completed"
    },
    "tags": []
   },
   "outputs": [
    {
     "data": {
      "text/html": [
       "<table class=\"simpletable\">\n",
       "<caption>SARIMAX Results</caption>\n",
       "<tr>\n",
       "  <th>Dep. Variable:</th>     <td>Hospital_Beds</td>  <th>  No. Observations:  </th>   <td>22</td>   \n",
       "</tr>\n",
       "<tr>\n",
       "  <th>Model:</th>            <td>ARIMA(2, 1, 2)</td>  <th>  Log Likelihood     </th> <td>-43.884</td>\n",
       "</tr>\n",
       "<tr>\n",
       "  <th>Date:</th>            <td>Thu, 30 Nov 2023</td> <th>  AIC                </th> <td>97.769</td> \n",
       "</tr>\n",
       "<tr>\n",
       "  <th>Time:</th>                <td>11:17:01</td>     <th>  BIC                </th> <td>102.991</td>\n",
       "</tr>\n",
       "<tr>\n",
       "  <th>Sample:</th>                  <td>0</td>        <th>  HQIC               </th> <td>98.902</td> \n",
       "</tr>\n",
       "<tr>\n",
       "  <th></th>                       <td> - 22</td>      <th>                     </th>    <td> </td>   \n",
       "</tr>\n",
       "<tr>\n",
       "  <th>Covariance Type:</th>        <td>opg</td>       <th>                     </th>    <td> </td>   \n",
       "</tr>\n",
       "</table>\n",
       "<table class=\"simpletable\">\n",
       "<tr>\n",
       "     <td></td>       <th>coef</th>     <th>std err</th>      <th>z</th>      <th>P>|z|</th>  <th>[0.025</th>    <th>0.975]</th>  \n",
       "</tr>\n",
       "<tr>\n",
       "  <th>ar.L1</th>  <td>    0.0008</td> <td>    0.065</td> <td>    0.012</td> <td> 0.990</td> <td>   -0.126</td> <td>    0.128</td>\n",
       "</tr>\n",
       "<tr>\n",
       "  <th>ar.L2</th>  <td>    0.9992</td> <td>    0.061</td> <td>   16.251</td> <td> 0.000</td> <td>    0.879</td> <td>    1.120</td>\n",
       "</tr>\n",
       "<tr>\n",
       "  <th>ma.L1</th>  <td>   -0.0081</td> <td>    0.926</td> <td>   -0.009</td> <td> 0.993</td> <td>   -1.823</td> <td>    1.807</td>\n",
       "</tr>\n",
       "<tr>\n",
       "  <th>ma.L2</th>  <td>   -0.9915</td> <td>    0.601</td> <td>   -1.650</td> <td> 0.099</td> <td>   -2.169</td> <td>    0.186</td>\n",
       "</tr>\n",
       "<tr>\n",
       "  <th>sigma2</th> <td>    3.5894</td> <td>    0.401</td> <td>    8.961</td> <td> 0.000</td> <td>    2.804</td> <td>    4.375</td>\n",
       "</tr>\n",
       "</table>\n",
       "<table class=\"simpletable\">\n",
       "<tr>\n",
       "  <th>Ljung-Box (L1) (Q):</th>     <td>0.01</td> <th>  Jarque-Bera (JB):  </th> <td>122.46</td>\n",
       "</tr>\n",
       "<tr>\n",
       "  <th>Prob(Q):</th>                <td>0.94</td> <th>  Prob(JB):          </th>  <td>0.00</td> \n",
       "</tr>\n",
       "<tr>\n",
       "  <th>Heteroskedasticity (H):</th> <td>6.14</td> <th>  Skew:              </th>  <td>2.93</td> \n",
       "</tr>\n",
       "<tr>\n",
       "  <th>Prob(H) (two-sided):</th>    <td>0.03</td> <th>  Kurtosis:          </th>  <td>13.27</td>\n",
       "</tr>\n",
       "</table><br/><br/>Warnings:<br/>[1] Covariance matrix calculated using the outer product of gradients (complex-step).<br/>[2] Covariance matrix is singular or near-singular, with condition number 2.54e+17. Standard errors may be unstable."
      ],
      "text/latex": [
       "\\begin{center}\n",
       "\\begin{tabular}{lclc}\n",
       "\\toprule\n",
       "\\textbf{Dep. Variable:}          &  Hospital\\_Beds  & \\textbf{  No. Observations:  } &     22      \\\\\n",
       "\\textbf{Model:}                  &  ARIMA(2, 1, 2)  & \\textbf{  Log Likelihood     } &  -43.884    \\\\\n",
       "\\textbf{Date:}                   & Thu, 30 Nov 2023 & \\textbf{  AIC                } &   97.769    \\\\\n",
       "\\textbf{Time:}                   &     11:17:01     & \\textbf{  BIC                } &  102.991    \\\\\n",
       "\\textbf{Sample:}                 &        0         & \\textbf{  HQIC               } &   98.902    \\\\\n",
       "\\textbf{}                        &       - 22       & \\textbf{                     } &             \\\\\n",
       "\\textbf{Covariance Type:}        &       opg        & \\textbf{                     } &             \\\\\n",
       "\\bottomrule\n",
       "\\end{tabular}\n",
       "\\begin{tabular}{lcccccc}\n",
       "                & \\textbf{coef} & \\textbf{std err} & \\textbf{z} & \\textbf{P$> |$z$|$} & \\textbf{[0.025} & \\textbf{0.975]}  \\\\\n",
       "\\midrule\n",
       "\\textbf{ar.L1}  &       0.0008  &        0.065     &     0.012  &         0.990        &       -0.126    &        0.128     \\\\\n",
       "\\textbf{ar.L2}  &       0.9992  &        0.061     &    16.251  &         0.000        &        0.879    &        1.120     \\\\\n",
       "\\textbf{ma.L1}  &      -0.0081  &        0.926     &    -0.009  &         0.993        &       -1.823    &        1.807     \\\\\n",
       "\\textbf{ma.L2}  &      -0.9915  &        0.601     &    -1.650  &         0.099        &       -2.169    &        0.186     \\\\\n",
       "\\textbf{sigma2} &       3.5894  &        0.401     &     8.961  &         0.000        &        2.804    &        4.375     \\\\\n",
       "\\bottomrule\n",
       "\\end{tabular}\n",
       "\\begin{tabular}{lclc}\n",
       "\\textbf{Ljung-Box (L1) (Q):}     & 0.01 & \\textbf{  Jarque-Bera (JB):  } & 122.46  \\\\\n",
       "\\textbf{Prob(Q):}                & 0.94 & \\textbf{  Prob(JB):          } &  0.00   \\\\\n",
       "\\textbf{Heteroskedasticity (H):} & 6.14 & \\textbf{  Skew:              } &  2.93   \\\\\n",
       "\\textbf{Prob(H) (two-sided):}    & 0.03 & \\textbf{  Kurtosis:          } & 13.27   \\\\\n",
       "\\bottomrule\n",
       "\\end{tabular}\n",
       "%\\caption{SARIMAX Results}\n",
       "\\end{center}\n",
       "\n",
       "Warnings: \\newline\n",
       " [1] Covariance matrix calculated using the outer product of gradients (complex-step). \\newline\n",
       " [2] Covariance matrix is singular or near-singular, with condition number 2.54e+17. Standard errors may be unstable."
      ],
      "text/plain": [
       "<class 'statsmodels.iolib.summary.Summary'>\n",
       "\"\"\"\n",
       "                               SARIMAX Results                                \n",
       "==============================================================================\n",
       "Dep. Variable:          Hospital_Beds   No. Observations:                   22\n",
       "Model:                 ARIMA(2, 1, 2)   Log Likelihood                 -43.884\n",
       "Date:                Thu, 30 Nov 2023   AIC                             97.769\n",
       "Time:                        11:17:01   BIC                            102.991\n",
       "Sample:                             0   HQIC                            98.902\n",
       "                                 - 22                                         \n",
       "Covariance Type:                  opg                                         \n",
       "==============================================================================\n",
       "                 coef    std err          z      P>|z|      [0.025      0.975]\n",
       "------------------------------------------------------------------------------\n",
       "ar.L1          0.0008      0.065      0.012      0.990      -0.126       0.128\n",
       "ar.L2          0.9992      0.061     16.251      0.000       0.879       1.120\n",
       "ma.L1         -0.0081      0.926     -0.009      0.993      -1.823       1.807\n",
       "ma.L2         -0.9915      0.601     -1.650      0.099      -2.169       0.186\n",
       "sigma2         3.5894      0.401      8.961      0.000       2.804       4.375\n",
       "===================================================================================\n",
       "Ljung-Box (L1) (Q):                   0.01   Jarque-Bera (JB):               122.46\n",
       "Prob(Q):                              0.94   Prob(JB):                         0.00\n",
       "Heteroskedasticity (H):               6.14   Skew:                             2.93\n",
       "Prob(H) (two-sided):                  0.03   Kurtosis:                        13.27\n",
       "===================================================================================\n",
       "\n",
       "Warnings:\n",
       "[1] Covariance matrix calculated using the outer product of gradients (complex-step).\n",
       "[2] Covariance matrix is singular or near-singular, with condition number 2.54e+17. Standard errors may be unstable.\n",
       "\"\"\""
      ]
     },
     "execution_count": 44,
     "metadata": {},
     "output_type": "execute_result"
    }
   ],
   "source": [
    "from statsmodels.tsa.arima.model import ARIMA\n",
    "\n",
    "# Assuming 'train' is a DataFrame with the correct column name\n",
    "model = ARIMA(train, order=(2, 1, 2))\n",
    "model = model.fit()\n",
    "model.summary()\n"
   ]
  },
  {
   "cell_type": "code",
   "execution_count": 45,
   "id": "51f3bd57",
   "metadata": {
    "execution": {
     "iopub.execute_input": "2023-11-30T11:17:01.259558Z",
     "iopub.status.busy": "2023-11-30T11:17:01.258797Z",
     "iopub.status.idle": "2023-11-30T11:17:01.268225Z",
     "shell.execute_reply": "2023-11-30T11:17:01.267453Z"
    },
    "papermill": {
     "duration": 0.045919,
     "end_time": "2023-11-30T11:17:01.270218",
     "exception": false,
     "start_time": "2023-11-30T11:17:01.224299",
     "status": "completed"
    },
    "tags": []
   },
   "outputs": [
    {
     "name": "stdout",
     "output_type": "stream",
     "text": [
      "(29, 2)\n",
      "    Time  Hospital_Beds\n",
      "0   1990           3.46\n",
      "1   1991           3.45\n",
      "2   1992           7.26\n",
      "3   1993          10.00\n",
      "4   1994          12.00\n",
      "5   1995          14.98\n",
      "6   1996          41.67\n",
      "7   1997          43.38\n",
      "8   1998          30.57\n",
      "9   1999          72.61\n",
      "10  2000          65.18\n",
      "11  2001          93.30\n",
      "12  2002         128.25\n",
      "13  2003         142.03\n",
      "14  2004         154.95\n",
      "15  2005         148.16\n",
      "16  2006         207.95\n",
      "17  2007         240.76\n",
      "18  2008         271.13\n",
      "19  2009         261.65\n",
      "20  2010         314.47\n",
      "21  2011         378.50\n",
      "    Time  Hospital_Beds\n",
      "22  2012         376.68\n",
      "23  2013         395.99\n",
      "24  2014         445.39\n",
      "25  2015         403.48\n",
      "26  2016         405.38\n",
      "27  2017         479.58\n",
      "28  2018         320.72\n"
     ]
    }
   ],
   "source": [
    "print(hospital_beds.shape)\n",
    "train=hospital_beds.iloc[:22]\n",
    "test=hospital_beds.iloc[22:]\n",
    "print(train)\n",
    "print(test)"
   ]
  },
  {
   "cell_type": "code",
   "execution_count": 46,
   "id": "22998554",
   "metadata": {
    "execution": {
     "iopub.execute_input": "2023-11-30T11:17:01.322177Z",
     "iopub.status.busy": "2023-11-30T11:17:01.321457Z",
     "iopub.status.idle": "2023-11-30T11:17:01.459201Z",
     "shell.execute_reply": "2023-11-30T11:17:01.458403Z"
    },
    "papermill": {
     "duration": 0.166848,
     "end_time": "2023-11-30T11:17:01.461397",
     "exception": false,
     "start_time": "2023-11-30T11:17:01.294549",
     "status": "completed"
    },
    "tags": []
   },
   "outputs": [
    {
     "data": {
      "text/html": [
       "<table class=\"simpletable\">\n",
       "<caption>SARIMAX Results</caption>\n",
       "<tr>\n",
       "  <th>Dep. Variable:</th>     <td>Hospital_Beds</td>  <th>  No. Observations:  </th>   <td>22</td>   \n",
       "</tr>\n",
       "<tr>\n",
       "  <th>Model:</th>            <td>ARIMA(2, 1, 2)</td>  <th>  Log Likelihood     </th> <td>-96.125</td>\n",
       "</tr>\n",
       "<tr>\n",
       "  <th>Date:</th>            <td>Thu, 30 Nov 2023</td> <th>  AIC                </th> <td>202.249</td>\n",
       "</tr>\n",
       "<tr>\n",
       "  <th>Time:</th>                <td>11:17:01</td>     <th>  BIC                </th> <td>207.472</td>\n",
       "</tr>\n",
       "<tr>\n",
       "  <th>Sample:</th>                  <td>0</td>        <th>  HQIC               </th> <td>203.383</td>\n",
       "</tr>\n",
       "<tr>\n",
       "  <th></th>                       <td> - 22</td>      <th>                     </th>    <td> </td>   \n",
       "</tr>\n",
       "<tr>\n",
       "  <th>Covariance Type:</th>        <td>opg</td>       <th>                     </th>    <td> </td>   \n",
       "</tr>\n",
       "</table>\n",
       "<table class=\"simpletable\">\n",
       "<tr>\n",
       "     <td></td>       <th>coef</th>     <th>std err</th>      <th>z</th>      <th>P>|z|</th>  <th>[0.025</th>    <th>0.975]</th>  \n",
       "</tr>\n",
       "<tr>\n",
       "  <th>ar.L1</th>  <td>    0.0965</td> <td>    1.211</td> <td>    0.080</td> <td> 0.936</td> <td>   -2.278</td> <td>    2.471</td>\n",
       "</tr>\n",
       "<tr>\n",
       "  <th>ar.L2</th>  <td>    0.8617</td> <td>    1.132</td> <td>    0.762</td> <td> 0.446</td> <td>   -1.356</td> <td>    3.079</td>\n",
       "</tr>\n",
       "<tr>\n",
       "  <th>ma.L1</th>  <td>    0.1899</td> <td>  337.404</td> <td>    0.001</td> <td> 1.000</td> <td> -661.110</td> <td>  661.490</td>\n",
       "</tr>\n",
       "<tr>\n",
       "  <th>ma.L2</th>  <td>   -0.8098</td> <td>  273.143</td> <td>   -0.003</td> <td> 0.998</td> <td> -536.159</td> <td>  534.540</td>\n",
       "</tr>\n",
       "<tr>\n",
       "  <th>sigma2</th> <td>  505.8699</td> <td>  1.7e+05</td> <td>    0.003</td> <td> 0.998</td> <td>-3.33e+05</td> <td> 3.34e+05</td>\n",
       "</tr>\n",
       "</table>\n",
       "<table class=\"simpletable\">\n",
       "<tr>\n",
       "  <th>Ljung-Box (L1) (Q):</th>     <td>2.33</td>  <th>  Jarque-Bera (JB):  </th> <td>0.50</td>\n",
       "</tr>\n",
       "<tr>\n",
       "  <th>Prob(Q):</th>                <td>0.13</td>  <th>  Prob(JB):          </th> <td>0.78</td>\n",
       "</tr>\n",
       "<tr>\n",
       "  <th>Heteroskedasticity (H):</th> <td>10.89</td> <th>  Skew:              </th> <td>0.19</td>\n",
       "</tr>\n",
       "<tr>\n",
       "  <th>Prob(H) (two-sided):</th>    <td>0.01</td>  <th>  Kurtosis:          </th> <td>2.35</td>\n",
       "</tr>\n",
       "</table><br/><br/>Warnings:<br/>[1] Covariance matrix calculated using the outer product of gradients (complex-step)."
      ],
      "text/latex": [
       "\\begin{center}\n",
       "\\begin{tabular}{lclc}\n",
       "\\toprule\n",
       "\\textbf{Dep. Variable:}          &  Hospital\\_Beds  & \\textbf{  No. Observations:  } &     22      \\\\\n",
       "\\textbf{Model:}                  &  ARIMA(2, 1, 2)  & \\textbf{  Log Likelihood     } &  -96.125    \\\\\n",
       "\\textbf{Date:}                   & Thu, 30 Nov 2023 & \\textbf{  AIC                } &  202.249    \\\\\n",
       "\\textbf{Time:}                   &     11:17:01     & \\textbf{  BIC                } &  207.472    \\\\\n",
       "\\textbf{Sample:}                 &        0         & \\textbf{  HQIC               } &  203.383    \\\\\n",
       "\\textbf{}                        &       - 22       & \\textbf{                     } &             \\\\\n",
       "\\textbf{Covariance Type:}        &       opg        & \\textbf{                     } &             \\\\\n",
       "\\bottomrule\n",
       "\\end{tabular}\n",
       "\\begin{tabular}{lcccccc}\n",
       "                & \\textbf{coef} & \\textbf{std err} & \\textbf{z} & \\textbf{P$> |$z$|$} & \\textbf{[0.025} & \\textbf{0.975]}  \\\\\n",
       "\\midrule\n",
       "\\textbf{ar.L1}  &       0.0965  &        1.211     &     0.080  &         0.936        &       -2.278    &        2.471     \\\\\n",
       "\\textbf{ar.L2}  &       0.8617  &        1.132     &     0.762  &         0.446        &       -1.356    &        3.079     \\\\\n",
       "\\textbf{ma.L1}  &       0.1899  &      337.404     &     0.001  &         1.000        &     -661.110    &      661.490     \\\\\n",
       "\\textbf{ma.L2}  &      -0.8098  &      273.143     &    -0.003  &         0.998        &     -536.159    &      534.540     \\\\\n",
       "\\textbf{sigma2} &     505.8699  &      1.7e+05     &     0.003  &         0.998        &    -3.33e+05    &     3.34e+05     \\\\\n",
       "\\bottomrule\n",
       "\\end{tabular}\n",
       "\\begin{tabular}{lclc}\n",
       "\\textbf{Ljung-Box (L1) (Q):}     &  2.33 & \\textbf{  Jarque-Bera (JB):  } & 0.50  \\\\\n",
       "\\textbf{Prob(Q):}                &  0.13 & \\textbf{  Prob(JB):          } & 0.78  \\\\\n",
       "\\textbf{Heteroskedasticity (H):} & 10.89 & \\textbf{  Skew:              } & 0.19  \\\\\n",
       "\\textbf{Prob(H) (two-sided):}    &  0.01 & \\textbf{  Kurtosis:          } & 2.35  \\\\\n",
       "\\bottomrule\n",
       "\\end{tabular}\n",
       "%\\caption{SARIMAX Results}\n",
       "\\end{center}\n",
       "\n",
       "Warnings: \\newline\n",
       " [1] Covariance matrix calculated using the outer product of gradients (complex-step)."
      ],
      "text/plain": [
       "<class 'statsmodels.iolib.summary.Summary'>\n",
       "\"\"\"\n",
       "                               SARIMAX Results                                \n",
       "==============================================================================\n",
       "Dep. Variable:          Hospital_Beds   No. Observations:                   22\n",
       "Model:                 ARIMA(2, 1, 2)   Log Likelihood                 -96.125\n",
       "Date:                Thu, 30 Nov 2023   AIC                            202.249\n",
       "Time:                        11:17:01   BIC                            207.472\n",
       "Sample:                             0   HQIC                           203.383\n",
       "                                 - 22                                         \n",
       "Covariance Type:                  opg                                         \n",
       "==============================================================================\n",
       "                 coef    std err          z      P>|z|      [0.025      0.975]\n",
       "------------------------------------------------------------------------------\n",
       "ar.L1          0.0965      1.211      0.080      0.936      -2.278       2.471\n",
       "ar.L2          0.8617      1.132      0.762      0.446      -1.356       3.079\n",
       "ma.L1          0.1899    337.404      0.001      1.000    -661.110     661.490\n",
       "ma.L2         -0.8098    273.143     -0.003      0.998    -536.159     534.540\n",
       "sigma2       505.8699    1.7e+05      0.003      0.998   -3.33e+05    3.34e+05\n",
       "===================================================================================\n",
       "Ljung-Box (L1) (Q):                   2.33   Jarque-Bera (JB):                 0.50\n",
       "Prob(Q):                              0.13   Prob(JB):                         0.78\n",
       "Heteroskedasticity (H):              10.89   Skew:                             0.19\n",
       "Prob(H) (two-sided):                  0.01   Kurtosis:                         2.35\n",
       "===================================================================================\n",
       "\n",
       "Warnings:\n",
       "[1] Covariance matrix calculated using the outer product of gradients (complex-step).\n",
       "\"\"\""
      ]
     },
     "execution_count": 46,
     "metadata": {},
     "output_type": "execute_result"
    }
   ],
   "source": [
    "from statsmodels.tsa.arima.model import ARIMA\n",
    "model = ARIMA(train['Hospital_Beds'], order=(2, 1,2))\n",
    "model = model.fit()\n",
    "model.summary()\n"
   ]
  },
  {
   "cell_type": "code",
   "execution_count": 47,
   "id": "fd27e085",
   "metadata": {
    "execution": {
     "iopub.execute_input": "2023-11-30T11:17:01.526326Z",
     "iopub.status.busy": "2023-11-30T11:17:01.525308Z",
     "iopub.status.idle": "2023-11-30T11:17:01.841410Z",
     "shell.execute_reply": "2023-11-30T11:17:01.839694Z"
    },
    "papermill": {
     "duration": 0.351532,
     "end_time": "2023-11-30T11:17:01.844315",
     "exception": false,
     "start_time": "2023-11-30T11:17:01.492783",
     "status": "completed"
    },
    "tags": []
   },
   "outputs": [
    {
     "data": {
      "text/plain": [
       "<Axes: >"
      ]
     },
     "execution_count": 47,
     "metadata": {},
     "output_type": "execute_result"
    },
    {
     "data": {
      "image/png": "[encoded data removed]",
      "text/plain": [
       "<Figure size 640x480 with 1 Axes>"
      ]
     },
     "metadata": {},
     "output_type": "display_data"
    }
   ],
   "source": [
    "start=len(train)\n",
    "end=len(train)+len(test)-1\n",
    "pred=model.predict(start=start,end=end,typ='levels').rename('ARIMA Predictions')\n",
    "pred.plot(legend=True)\n",
    "test['Hospital_Beds'].plot(legend=True)"
   ]
  },
  {
   "cell_type": "code",
   "execution_count": 48,
   "id": "1b18f174",
   "metadata": {
    "execution": {
     "iopub.execute_input": "2023-11-30T11:17:01.897423Z",
     "iopub.status.busy": "2023-11-30T11:17:01.896751Z",
     "iopub.status.idle": "2023-11-30T11:17:01.904208Z",
     "shell.execute_reply": "2023-11-30T11:17:01.902617Z"
    },
    "papermill": {
     "duration": 0.037723,
     "end_time": "2023-11-30T11:17:01.907821",
     "exception": false,
     "start_time": "2023-11-30T11:17:01.870098",
     "status": "completed"
    },
    "tags": []
   },
   "outputs": [
    {
     "name": "stdout",
     "output_type": "stream",
     "text": [
      "105.56707597348395\n"
     ]
    }
   ],
   "source": [
    "from sklearn.metrics import mean_squared_error\n",
    "from math import sqrt\n",
    "test['Hospital_Beds'].mean()\n",
    "rmse=sqrt(mean_squared_error(pred,test['Hospital_Beds']))\n",
    "print(rmse)"
   ]
  },
  {
   "cell_type": "code",
   "execution_count": 49,
   "id": "bcfecb55",
   "metadata": {
    "execution": {
     "iopub.execute_input": "2023-11-30T11:17:01.964338Z",
     "iopub.status.busy": "2023-11-30T11:17:01.963704Z",
     "iopub.status.idle": "2023-11-30T11:17:01.970765Z",
     "shell.execute_reply": "2023-11-30T11:17:01.968798Z"
    },
    "papermill": {
     "duration": 0.039017,
     "end_time": "2023-11-30T11:17:01.973441",
     "exception": false,
     "start_time": "2023-11-30T11:17:01.934424",
     "status": "completed"
    },
    "tags": []
   },
   "outputs": [
    {
     "name": "stdout",
     "output_type": "stream",
     "text": [
      "22    376.68\n",
      "23    395.99\n",
      "24    445.39\n",
      "25    403.48\n",
      "26    405.38\n",
      "27    479.58\n",
      "28    320.72\n",
      "Name: Hospital_Beds, dtype: float64\n"
     ]
    }
   ],
   "source": [
    "print(test['Hospital_Beds'])"
   ]
  },
  {
   "cell_type": "code",
   "execution_count": 50,
   "id": "8720dd55",
   "metadata": {
    "execution": {
     "iopub.execute_input": "2023-11-30T11:17:02.024830Z",
     "iopub.status.busy": "2023-11-30T11:17:02.024395Z",
     "iopub.status.idle": "2023-11-30T11:17:02.030137Z",
     "shell.execute_reply": "2023-11-30T11:17:02.029218Z"
    },
    "papermill": {
     "duration": 0.033729,
     "end_time": "2023-11-30T11:17:02.031902",
     "exception": false,
     "start_time": "2023-11-30T11:17:01.998173",
     "status": "completed"
    },
    "tags": []
   },
   "outputs": [
    {
     "name": "stdout",
     "output_type": "stream",
     "text": [
      "22    402.032589\n",
      "23    432.817550\n",
      "24    456.067732\n",
      "25    484.839784\n",
      "26    507.652274\n",
      "27    534.647552\n",
      "28    556.911339\n",
      "Name: ARIMA Predictions, dtype: float64\n"
     ]
    }
   ],
   "source": [
    "print(pred)"
   ]
  },
  {
   "cell_type": "code",
   "execution_count": 51,
   "id": "dad340b8",
   "metadata": {
    "execution": {
     "iopub.execute_input": "2023-11-30T11:17:02.082162Z",
     "iopub.status.busy": "2023-11-30T11:17:02.080750Z",
     "iopub.status.idle": "2023-11-30T11:17:02.146844Z",
     "shell.execute_reply": "2023-11-30T11:17:02.146128Z"
    },
    "papermill": {
     "duration": 0.09444,
     "end_time": "2023-11-30T11:17:02.150193",
     "exception": false,
     "start_time": "2023-11-30T11:17:02.055753",
     "status": "completed"
    },
    "tags": []
   },
   "outputs": [
    {
     "name": "stdout",
     "output_type": "stream",
     "text": [
      "2019-12-31     666.166564\n",
      "2020-12-31     706.102140\n",
      "2021-12-31     745.684995\n",
      "2022-12-31     785.514880\n",
      "2023-12-31     825.508891\n",
      "2024-12-31     865.442113\n",
      "2025-12-31     905.307665\n",
      "2026-12-31     945.183793\n",
      "2027-12-31     985.085495\n",
      "2028-12-31    1024.987574\n",
      "2029-12-31    1064.880690\n",
      "2030-12-31    1104.772234\n",
      "2031-12-31    1144.666688\n",
      "2032-12-31    1184.562163\n",
      "2033-12-31    1224.456776\n",
      "2034-12-31    1264.350890\n",
      "2035-12-31    1304.245228\n",
      "2036-12-31    1344.139779\n",
      "2037-12-31    1384.034284\n",
      "2038-12-31    1423.928707\n",
      "2039-12-31    1463.823133\n",
      "2040-12-31    1503.717588\n",
      "Freq: A-DEC, Name: ARIMA Predictions till 2040, dtype: float64\n"
     ]
    }
   ],
   "source": [
    "import statsmodels.api as sm\n",
    "from statsmodels.tsa.arima.model import ARIMA\n",
    "\n",
    "model = ARIMA(train['Hospital_Beds'], order=(2,2,2))\n",
    "model = model.fit()\n",
    "index_future_dates = pd.date_range(start='2019', periods=22, freq='Y')\n",
    "\n",
    "pred = model.get_prediction(start=len(hospital_beds), end=len(hospital_beds) + 21, dynamic=False)\n",
    "pred_conf = pred.conf_int()\n",
    "\n",
    "pred_values = pred.predicted_mean.rename('ARIMA Predictions till 2040')\n",
    "\n",
    "pred_values.index = index_future_dates\n",
    "print(pred_values)"
   ]
  },
  {
   "cell_type": "code",
   "execution_count": 52,
   "id": "31bbb9d8",
   "metadata": {
    "execution": {
     "iopub.execute_input": "2023-11-30T11:17:02.221727Z",
     "iopub.status.busy": "2023-11-30T11:17:02.219988Z",
     "iopub.status.idle": "2023-11-30T11:17:02.583890Z",
     "shell.execute_reply": "2023-11-30T11:17:02.582219Z"
    },
    "papermill": {
     "duration": 0.401108,
     "end_time": "2023-11-30T11:17:02.586491",
     "exception": false,
     "start_time": "2023-11-30T11:17:02.185383",
     "status": "completed"
    },
    "tags": []
   },
   "outputs": [
    {
     "data": {
      "text/plain": [
       "<Axes: >"
      ]
     },
     "execution_count": 52,
     "metadata": {},
     "output_type": "execute_result"
    },
    {
     "data": {
      "image/png": "[encoded data removed]",
      "text/plain": [
       "<Figure size 1000x600 with 1 Axes>"
      ]
     },
     "metadata": {},
     "output_type": "display_data"
    }
   ],
   "source": [
    "pred_values.plot(figsize=(10,6),legend=True)"
   ]
  },
  {
   "cell_type": "code",
   "execution_count": 53,
   "id": "a847ec00",
   "metadata": {
    "execution": {
     "iopub.execute_input": "2023-11-30T11:17:02.638277Z",
     "iopub.status.busy": "2023-11-30T11:17:02.637918Z",
     "iopub.status.idle": "2023-11-30T11:17:03.705592Z",
     "shell.execute_reply": "2023-11-30T11:17:03.703951Z"
    },
    "papermill": {
     "duration": 1.096745,
     "end_time": "2023-11-30T11:17:03.708383",
     "exception": false,
     "start_time": "2023-11-30T11:17:02.611638",
     "status": "completed"
    },
    "tags": []
   },
   "outputs": [
    {
     "name": "stdout",
     "output_type": "stream",
     "text": [
      "\u001b[31mERROR: You must give at least one requirement to install (see \"pip help install\")\u001b[0m\u001b[31m\r\n",
      "\u001b[0mNote: you may need to restart the kernel to use updated packages.\n"
     ]
    }
   ],
   "source": [
    "pip install -i https://anaconda.org/conda-forge/linearmodels"
   ]
  },
  {
   "cell_type": "code",
   "execution_count": 54,
   "id": "4d3c02a9",
   "metadata": {
    "execution": {
     "iopub.execute_input": "2023-11-30T11:17:03.760130Z",
     "iopub.status.busy": "2023-11-30T11:17:03.759751Z",
     "iopub.status.idle": "2023-11-30T11:17:04.047425Z",
     "shell.execute_reply": "2023-11-30T11:17:04.046439Z"
    },
    "papermill": {
     "duration": 0.315836,
     "end_time": "2023-11-30T11:17:04.049415",
     "exception": false,
     "start_time": "2023-11-30T11:17:03.733579",
     "status": "completed"
    },
    "tags": []
   },
   "outputs": [
    {
     "data": {
      "text/plain": [
       "<Axes: >"
      ]
     },
     "execution_count": 54,
     "metadata": {},
     "output_type": "execute_result"
    },
    {
     "data": {
      "image/png": "[encoded data removed]",
      "text/plain": [
       "<Figure size 1200x500 with 1 Axes>"
      ]
     },
     "metadata": {},
     "output_type": "display_data"
    }
   ],
   "source": [
    "df['Hospital_Stay'].plot(figsize=(12,5))"
   ]
  },
  {
   "cell_type": "code",
   "execution_count": 55,
   "id": "316c10be",
   "metadata": {
    "execution": {
     "iopub.execute_input": "2023-11-30T11:17:04.104854Z",
     "iopub.status.busy": "2023-11-30T11:17:04.104370Z",
     "iopub.status.idle": "2023-11-30T11:17:04.115318Z",
     "shell.execute_reply": "2023-11-30T11:17:04.114456Z"
    },
    "papermill": {
     "duration": 0.040847,
     "end_time": "2023-11-30T11:17:04.117365",
     "exception": false,
     "start_time": "2023-11-30T11:17:04.076518",
     "status": "completed"
    },
    "tags": []
   },
   "outputs": [
    {
     "name": "stdout",
     "output_type": "stream",
     "text": [
      "    Time  MRI_Units\n",
      "0   1990       3.46\n",
      "1   1991       3.45\n",
      "2   1992       7.26\n",
      "3   1993      10.00\n",
      "4   1994      12.00\n",
      "5   1995      14.98\n",
      "6   1996      41.67\n",
      "7   1997      43.38\n",
      "8   1998      30.57\n",
      "9   1999      72.61\n",
      "10  2000      65.18\n",
      "11  2001      93.30\n",
      "12  2002     128.25\n",
      "13  2003     142.03\n",
      "14  2004     154.95\n",
      "15  2005     148.16\n",
      "16  2006     207.95\n",
      "17  2007     240.76\n",
      "18  2008     271.13\n",
      "19  2009     261.65\n",
      "20  2010     314.47\n",
      "21  2011     378.50\n",
      "22  2012     376.68\n",
      "23  2013     395.99\n",
      "24  2014     445.39\n",
      "25  2015     403.48\n",
      "26  2016     405.38\n",
      "27  2017     479.58\n",
      "28  2018     320.72\n"
     ]
    }
   ],
   "source": [
    "df = pd.DataFrame(df)\n",
    "\n",
    "result = df.groupby('Time')['MRI_Units'].sum().reset_index()\n",
    "mri_units=pd.DataFrame(result)\n",
    "print(result)"
   ]
  },
  {
   "cell_type": "code",
   "execution_count": 56,
   "id": "0b64b41b",
   "metadata": {
    "execution": {
     "iopub.execute_input": "2023-11-30T11:17:04.173534Z",
     "iopub.status.busy": "2023-11-30T11:17:04.172969Z",
     "iopub.status.idle": "2023-11-30T11:17:04.192994Z",
     "shell.execute_reply": "2023-11-30T11:17:04.192134Z"
    },
    "papermill": {
     "duration": 0.049473,
     "end_time": "2023-11-30T11:17:04.195100",
     "exception": false,
     "start_time": "2023-11-30T11:17:04.145627",
     "status": "completed"
    },
    "tags": []
   },
   "outputs": [
    {
     "name": "stdout",
     "output_type": "stream",
     "text": [
      "1. ADF :  -5.957769803549919\n",
      "2. P-Value :  2.0735468076741807e-07\n",
      "3. Num Of Lags :  0\n",
      "4. Num Of Observations Used For ADF Regression: 517\n",
      "5. Critical Values :\n",
      "\t 1% :  -3.443061925077973\n",
      "\t 5% :  -2.8671466525252014\n",
      "\t 10% :  -2.5697561378507907\n"
     ]
    }
   ],
   "source": [
    "from statsmodels.tsa.stattools import adfuller\n",
    "def ad_test(dataset):\n",
    "     dftest = adfuller(dataset, autolag = 'AIC')\n",
    "     print(\"1. ADF : \",dftest[0])\n",
    "     print(\"2. P-Value : \", dftest[1])\n",
    "     print(\"3. Num Of Lags : \", dftest[2])\n",
    "     print(\"4. Num Of Observations Used For ADF Regression:\",      dftest[3])\n",
    "     print(\"5. Critical Values :\")\n",
    "     for key, val in dftest[4].items():\n",
    "         print(\"\\t\",key, \": \", val)\n",
    "ad_test(df['MRI_Units'])"
   ]
  },
  {
   "cell_type": "code",
   "execution_count": 57,
   "id": "1385ece7",
   "metadata": {
    "execution": {
     "iopub.execute_input": "2023-11-30T11:17:04.269202Z",
     "iopub.status.busy": "2023-11-30T11:17:04.268797Z",
     "iopub.status.idle": "2023-11-30T11:17:04.703139Z",
     "shell.execute_reply": "2023-11-30T11:17:04.702187Z"
    },
    "papermill": {
     "duration": 0.474541,
     "end_time": "2023-11-30T11:17:04.705343",
     "exception": false,
     "start_time": "2023-11-30T11:17:04.230802",
     "status": "completed"
    },
    "tags": []
   },
   "outputs": [
    {
     "name": "stdout",
     "output_type": "stream",
     "text": [
      "Performing stepwise search to minimize aic\n",
      " ARIMA(2,1,2)(0,0,0)[0] intercept   : AIC=290.880, Time=0.13 sec\n",
      " ARIMA(0,1,0)(0,0,0)[0] intercept   : AIC=292.791, Time=0.01 sec\n",
      " ARIMA(1,1,0)(0,0,0)[0] intercept   : AIC=290.010, Time=0.04 sec\n",
      " ARIMA(0,1,1)(0,0,0)[0] intercept   : AIC=291.022, Time=0.04 sec\n",
      " ARIMA(0,1,0)(0,0,0)[0]             : AIC=292.757, Time=0.01 sec\n",
      " ARIMA(2,1,0)(0,0,0)[0] intercept   : AIC=290.791, Time=0.05 sec\n",
      " ARIMA(1,1,1)(0,0,0)[0] intercept   : AIC=291.613, Time=0.05 sec\n",
      " ARIMA(2,1,1)(0,0,0)[0] intercept   : AIC=294.010, Time=0.05 sec\n",
      " ARIMA(1,1,0)(0,0,0)[0]             : AIC=293.811, Time=0.02 sec\n",
      "\n",
      "Best model:  ARIMA(1,1,0)(0,0,0)[0] intercept\n",
      "Total fit time: 0.409 seconds\n"
     ]
    },
    {
     "data": {
      "text/html": [
       "<table class=\"simpletable\">\n",
       "<caption>SARIMAX Results</caption>\n",
       "<tr>\n",
       "  <th>Dep. Variable:</th>           <td>y</td>        <th>  No. Observations:  </th>    <td>29</td>   \n",
       "</tr>\n",
       "<tr>\n",
       "  <th>Model:</th>           <td>SARIMAX(1, 1, 0)</td> <th>  Log Likelihood     </th> <td>-142.005</td>\n",
       "</tr>\n",
       "<tr>\n",
       "  <th>Date:</th>            <td>Thu, 30 Nov 2023</td> <th>  AIC                </th>  <td>290.010</td>\n",
       "</tr>\n",
       "<tr>\n",
       "  <th>Time:</th>                <td>11:17:04</td>     <th>  BIC                </th>  <td>294.007</td>\n",
       "</tr>\n",
       "<tr>\n",
       "  <th>Sample:</th>                  <td>0</td>        <th>  HQIC               </th>  <td>291.232</td>\n",
       "</tr>\n",
       "<tr>\n",
       "  <th></th>                       <td> - 29</td>      <th>                     </th>     <td> </td>   \n",
       "</tr>\n",
       "<tr>\n",
       "  <th>Covariance Type:</th>        <td>opg</td>       <th>                     </th>     <td> </td>   \n",
       "</tr>\n",
       "</table>\n",
       "<table class=\"simpletable\">\n",
       "<tr>\n",
       "      <td></td>         <th>coef</th>     <th>std err</th>      <th>z</th>      <th>P>|z|</th>  <th>[0.025</th>    <th>0.975]</th>  \n",
       "</tr>\n",
       "<tr>\n",
       "  <th>intercept</th> <td>   22.0582</td> <td>   11.936</td> <td>    1.848</td> <td> 0.065</td> <td>   -1.335</td> <td>   45.451</td>\n",
       "</tr>\n",
       "<tr>\n",
       "  <th>ar.L1</th>     <td>   -0.5963</td> <td>    0.258</td> <td>   -2.314</td> <td> 0.021</td> <td>   -1.101</td> <td>   -0.091</td>\n",
       "</tr>\n",
       "<tr>\n",
       "  <th>sigma2</th>    <td> 1465.1252</td> <td>  341.537</td> <td>    4.290</td> <td> 0.000</td> <td>  795.725</td> <td> 2134.526</td>\n",
       "</tr>\n",
       "</table>\n",
       "<table class=\"simpletable\">\n",
       "<tr>\n",
       "  <th>Ljung-Box (L1) (Q):</th>     <td>0.33</td>  <th>  Jarque-Bera (JB):  </th> <td>22.90</td>\n",
       "</tr>\n",
       "<tr>\n",
       "  <th>Prob(Q):</th>                <td>0.57</td>  <th>  Prob(JB):          </th> <td>0.00</td> \n",
       "</tr>\n",
       "<tr>\n",
       "  <th>Heteroskedasticity (H):</th> <td>11.75</td> <th>  Skew:              </th> <td>-1.22</td>\n",
       "</tr>\n",
       "<tr>\n",
       "  <th>Prob(H) (two-sided):</th>    <td>0.00</td>  <th>  Kurtosis:          </th> <td>6.69</td> \n",
       "</tr>\n",
       "</table><br/><br/>Warnings:<br/>[1] Covariance matrix calculated using the outer product of gradients (complex-step)."
      ],
      "text/latex": [
       "\\begin{center}\n",
       "\\begin{tabular}{lclc}\n",
       "\\toprule\n",
       "\\textbf{Dep. Variable:}          &        y         & \\textbf{  No. Observations:  } &     29      \\\\\n",
       "\\textbf{Model:}                  & SARIMAX(1, 1, 0) & \\textbf{  Log Likelihood     } &  -142.005   \\\\\n",
       "\\textbf{Date:}                   & Thu, 30 Nov 2023 & \\textbf{  AIC                } &  290.010    \\\\\n",
       "\\textbf{Time:}                   &     11:17:04     & \\textbf{  BIC                } &  294.007    \\\\\n",
       "\\textbf{Sample:}                 &        0         & \\textbf{  HQIC               } &  291.232    \\\\\n",
       "\\textbf{}                        &       - 29       & \\textbf{                     } &             \\\\\n",
       "\\textbf{Covariance Type:}        &       opg        & \\textbf{                     } &             \\\\\n",
       "\\bottomrule\n",
       "\\end{tabular}\n",
       "\\begin{tabular}{lcccccc}\n",
       "                   & \\textbf{coef} & \\textbf{std err} & \\textbf{z} & \\textbf{P$> |$z$|$} & \\textbf{[0.025} & \\textbf{0.975]}  \\\\\n",
       "\\midrule\n",
       "\\textbf{intercept} &      22.0582  &       11.936     &     1.848  &         0.065        &       -1.335    &       45.451     \\\\\n",
       "\\textbf{ar.L1}     &      -0.5963  &        0.258     &    -2.314  &         0.021        &       -1.101    &       -0.091     \\\\\n",
       "\\textbf{sigma2}    &    1465.1252  &      341.537     &     4.290  &         0.000        &      795.725    &     2134.526     \\\\\n",
       "\\bottomrule\n",
       "\\end{tabular}\n",
       "\\begin{tabular}{lclc}\n",
       "\\textbf{Ljung-Box (L1) (Q):}     &  0.33 & \\textbf{  Jarque-Bera (JB):  } & 22.90  \\\\\n",
       "\\textbf{Prob(Q):}                &  0.57 & \\textbf{  Prob(JB):          } &  0.00  \\\\\n",
       "\\textbf{Heteroskedasticity (H):} & 11.75 & \\textbf{  Skew:              } & -1.22  \\\\\n",
       "\\textbf{Prob(H) (two-sided):}    &  0.00 & \\textbf{  Kurtosis:          } &  6.69  \\\\\n",
       "\\bottomrule\n",
       "\\end{tabular}\n",
       "%\\caption{SARIMAX Results}\n",
       "\\end{center}\n",
       "\n",
       "Warnings: \\newline\n",
       " [1] Covariance matrix calculated using the outer product of gradients (complex-step)."
      ],
      "text/plain": [
       "<class 'statsmodels.iolib.summary.Summary'>\n",
       "\"\"\"\n",
       "                               SARIMAX Results                                \n",
       "==============================================================================\n",
       "Dep. Variable:                      y   No. Observations:                   29\n",
       "Model:               SARIMAX(1, 1, 0)   Log Likelihood                -142.005\n",
       "Date:                Thu, 30 Nov 2023   AIC                            290.010\n",
       "Time:                        11:17:04   BIC                            294.007\n",
       "Sample:                             0   HQIC                           291.232\n",
       "                                 - 29                                         \n",
       "Covariance Type:                  opg                                         \n",
       "==============================================================================\n",
       "                 coef    std err          z      P>|z|      [0.025      0.975]\n",
       "------------------------------------------------------------------------------\n",
       "intercept     22.0582     11.936      1.848      0.065      -1.335      45.451\n",
       "ar.L1         -0.5963      0.258     -2.314      0.021      -1.101      -0.091\n",
       "sigma2      1465.1252    341.537      4.290      0.000     795.725    2134.526\n",
       "===================================================================================\n",
       "Ljung-Box (L1) (Q):                   0.33   Jarque-Bera (JB):                22.90\n",
       "Prob(Q):                              0.57   Prob(JB):                         0.00\n",
       "Heteroskedasticity (H):              11.75   Skew:                            -1.22\n",
       "Prob(H) (two-sided):                  0.00   Kurtosis:                         6.69\n",
       "===================================================================================\n",
       "\n",
       "Warnings:\n",
       "[1] Covariance matrix calculated using the outer product of gradients (complex-step).\n",
       "\"\"\""
      ]
     },
     "execution_count": 57,
     "metadata": {},
     "output_type": "execute_result"
    }
   ],
   "source": [
    "from pmdarima import auto_arima\n",
    "stepwise_fit = auto_arima(mri_units['MRI_Units'], trace=True,suppress_warnings=True)\n",
    "stepwise_fit.summary()"
   ]
  },
  {
   "cell_type": "code",
   "execution_count": 58,
   "id": "21a17b19",
   "metadata": {
    "execution": {
     "iopub.execute_input": "2023-11-30T11:17:04.761103Z",
     "iopub.status.busy": "2023-11-30T11:17:04.760435Z",
     "iopub.status.idle": "2023-11-30T11:17:04.769016Z",
     "shell.execute_reply": "2023-11-30T11:17:04.768221Z"
    },
    "papermill": {
     "duration": 0.038285,
     "end_time": "2023-11-30T11:17:04.770794",
     "exception": false,
     "start_time": "2023-11-30T11:17:04.732509",
     "status": "completed"
    },
    "tags": []
   },
   "outputs": [
    {
     "name": "stdout",
     "output_type": "stream",
     "text": [
      "(29, 2)\n",
      "    Time  MRI_Units\n",
      "0   1990       3.46\n",
      "1   1991       3.45\n",
      "2   1992       7.26\n",
      "3   1993      10.00\n",
      "4   1994      12.00\n",
      "5   1995      14.98\n",
      "6   1996      41.67\n",
      "7   1997      43.38\n",
      "8   1998      30.57\n",
      "9   1999      72.61\n",
      "10  2000      65.18\n",
      "11  2001      93.30\n",
      "12  2002     128.25\n",
      "13  2003     142.03\n",
      "14  2004     154.95\n",
      "15  2005     148.16\n",
      "16  2006     207.95\n",
      "17  2007     240.76\n",
      "18  2008     271.13\n",
      "19  2009     261.65\n",
      "20  2010     314.47\n",
      "21  2011     378.50\n",
      "    Time  MRI_Units\n",
      "22  2012     376.68\n",
      "23  2013     395.99\n",
      "24  2014     445.39\n",
      "25  2015     403.48\n",
      "26  2016     405.38\n",
      "27  2017     479.58\n",
      "28  2018     320.72\n"
     ]
    }
   ],
   "source": [
    "print(mri_units.shape)\n",
    "train=mri_units.iloc[:22]\n",
    "test=mri_units.iloc[22:]\n",
    "print(train)\n",
    "print(test)"
   ]
  },
  {
   "cell_type": "code",
   "execution_count": 59,
   "id": "bdfe4d94",
   "metadata": {
    "execution": {
     "iopub.execute_input": "2023-11-30T11:17:04.826269Z",
     "iopub.status.busy": "2023-11-30T11:17:04.825638Z",
     "iopub.status.idle": "2023-11-30T11:17:14.661265Z",
     "shell.execute_reply": "2023-11-30T11:17:14.660359Z"
    },
    "papermill": {
     "duration": 9.866579,
     "end_time": "2023-11-30T11:17:14.664186",
     "exception": false,
     "start_time": "2023-11-30T11:17:04.797607",
     "status": "completed"
    },
    "tags": []
   },
   "outputs": [
    {
     "name": "stdout",
     "output_type": "stream",
     "text": [
      "Requirement already satisfied: statsmodels in /opt/conda/lib/python3.10/site-packages (0.14.0)\r\n",
      "Requirement already satisfied: numpy>=1.18 in /opt/conda/lib/python3.10/site-packages (from statsmodels) (1.23.5)\r\n",
      "Requirement already satisfied: scipy!=1.9.2,>=1.4 in /opt/conda/lib/python3.10/site-packages (from statsmodels) (1.11.2)\r\n",
      "Requirement already satisfied: pandas>=1.0 in /opt/conda/lib/python3.10/site-packages (from statsmodels) (2.0.3)\r\n",
      "Requirement already satisfied: patsy>=0.5.2 in /opt/conda/lib/python3.10/site-packages (from statsmodels) (0.5.3)\r\n",
      "Requirement already satisfied: packaging>=21.3 in /opt/conda/lib/python3.10/site-packages (from statsmodels) (21.3)\r\n",
      "Requirement already satisfied: pyparsing!=3.0.5,>=2.0.2 in /opt/conda/lib/python3.10/site-packages (from packaging>=21.3->statsmodels) (3.0.9)\r\n",
      "Requirement already satisfied: python-dateutil>=2.8.2 in /opt/conda/lib/python3.10/site-packages (from pandas>=1.0->statsmodels) (2.8.2)\r\n",
      "Requirement already satisfied: pytz>=2020.1 in /opt/conda/lib/python3.10/site-packages (from pandas>=1.0->statsmodels) (2023.3)\r\n",
      "Requirement already satisfied: tzdata>=2022.1 in /opt/conda/lib/python3.10/site-packages (from pandas>=1.0->statsmodels) (2023.3)\r\n",
      "Requirement already satisfied: six in /opt/conda/lib/python3.10/site-packages (from patsy>=0.5.2->statsmodels) (1.16.0)\r\n"
     ]
    }
   ],
   "source": [
    "!pip install statsmodels"
   ]
  },
  {
   "cell_type": "code",
   "execution_count": 60,
   "id": "304f1de5",
   "metadata": {
    "execution": {
     "iopub.execute_input": "2023-11-30T11:17:14.720703Z",
     "iopub.status.busy": "2023-11-30T11:17:14.720230Z",
     "iopub.status.idle": "2023-11-30T11:17:14.912417Z",
     "shell.execute_reply": "2023-11-30T11:17:14.911560Z"
    },
    "papermill": {
     "duration": 0.222917,
     "end_time": "2023-11-30T11:17:14.914612",
     "exception": false,
     "start_time": "2023-11-30T11:17:14.691695",
     "status": "completed"
    },
    "tags": []
   },
   "outputs": [
    {
     "data": {
      "text/html": [
       "<table class=\"simpletable\">\n",
       "<caption>SARIMAX Results</caption>\n",
       "<tr>\n",
       "  <th>Dep. Variable:</th>       <td>MRI_Units</td>    <th>  No. Observations:  </th>   <td>22</td>   \n",
       "</tr>\n",
       "<tr>\n",
       "  <th>Model:</th>            <td>ARIMA(2, 1, 2)</td>  <th>  Log Likelihood     </th> <td>-96.125</td>\n",
       "</tr>\n",
       "<tr>\n",
       "  <th>Date:</th>            <td>Thu, 30 Nov 2023</td> <th>  AIC                </th> <td>202.249</td>\n",
       "</tr>\n",
       "<tr>\n",
       "  <th>Time:</th>                <td>11:17:14</td>     <th>  BIC                </th> <td>207.472</td>\n",
       "</tr>\n",
       "<tr>\n",
       "  <th>Sample:</th>                  <td>0</td>        <th>  HQIC               </th> <td>203.383</td>\n",
       "</tr>\n",
       "<tr>\n",
       "  <th></th>                       <td> - 22</td>      <th>                     </th>    <td> </td>   \n",
       "</tr>\n",
       "<tr>\n",
       "  <th>Covariance Type:</th>        <td>opg</td>       <th>                     </th>    <td> </td>   \n",
       "</tr>\n",
       "</table>\n",
       "<table class=\"simpletable\">\n",
       "<tr>\n",
       "     <td></td>       <th>coef</th>     <th>std err</th>      <th>z</th>      <th>P>|z|</th>  <th>[0.025</th>    <th>0.975]</th>  \n",
       "</tr>\n",
       "<tr>\n",
       "  <th>ar.L1</th>  <td>    0.0965</td> <td>    1.211</td> <td>    0.080</td> <td> 0.936</td> <td>   -2.278</td> <td>    2.471</td>\n",
       "</tr>\n",
       "<tr>\n",
       "  <th>ar.L2</th>  <td>    0.8617</td> <td>    1.132</td> <td>    0.762</td> <td> 0.446</td> <td>   -1.356</td> <td>    3.079</td>\n",
       "</tr>\n",
       "<tr>\n",
       "  <th>ma.L1</th>  <td>    0.1899</td> <td>  337.404</td> <td>    0.001</td> <td> 1.000</td> <td> -661.110</td> <td>  661.490</td>\n",
       "</tr>\n",
       "<tr>\n",
       "  <th>ma.L2</th>  <td>   -0.8098</td> <td>  273.143</td> <td>   -0.003</td> <td> 0.998</td> <td> -536.159</td> <td>  534.540</td>\n",
       "</tr>\n",
       "<tr>\n",
       "  <th>sigma2</th> <td>  505.8699</td> <td>  1.7e+05</td> <td>    0.003</td> <td> 0.998</td> <td>-3.33e+05</td> <td> 3.34e+05</td>\n",
       "</tr>\n",
       "</table>\n",
       "<table class=\"simpletable\">\n",
       "<tr>\n",
       "  <th>Ljung-Box (L1) (Q):</th>     <td>2.33</td>  <th>  Jarque-Bera (JB):  </th> <td>0.50</td>\n",
       "</tr>\n",
       "<tr>\n",
       "  <th>Prob(Q):</th>                <td>0.13</td>  <th>  Prob(JB):          </th> <td>0.78</td>\n",
       "</tr>\n",
       "<tr>\n",
       "  <th>Heteroskedasticity (H):</th> <td>10.89</td> <th>  Skew:              </th> <td>0.19</td>\n",
       "</tr>\n",
       "<tr>\n",
       "  <th>Prob(H) (two-sided):</th>    <td>0.01</td>  <th>  Kurtosis:          </th> <td>2.35</td>\n",
       "</tr>\n",
       "</table><br/><br/>Warnings:<br/>[1] Covariance matrix calculated using the outer product of gradients (complex-step)."
      ],
      "text/latex": [
       "\\begin{center}\n",
       "\\begin{tabular}{lclc}\n",
       "\\toprule\n",
       "\\textbf{Dep. Variable:}          &    MRI\\_Units    & \\textbf{  No. Observations:  } &     22      \\\\\n",
       "\\textbf{Model:}                  &  ARIMA(2, 1, 2)  & \\textbf{  Log Likelihood     } &  -96.125    \\\\\n",
       "\\textbf{Date:}                   & Thu, 30 Nov 2023 & \\textbf{  AIC                } &  202.249    \\\\\n",
       "\\textbf{Time:}                   &     11:17:14     & \\textbf{  BIC                } &  207.472    \\\\\n",
       "\\textbf{Sample:}                 &        0         & \\textbf{  HQIC               } &  203.383    \\\\\n",
       "\\textbf{}                        &       - 22       & \\textbf{                     } &             \\\\\n",
       "\\textbf{Covariance Type:}        &       opg        & \\textbf{                     } &             \\\\\n",
       "\\bottomrule\n",
       "\\end{tabular}\n",
       "\\begin{tabular}{lcccccc}\n",
       "                & \\textbf{coef} & \\textbf{std err} & \\textbf{z} & \\textbf{P$> |$z$|$} & \\textbf{[0.025} & \\textbf{0.975]}  \\\\\n",
       "\\midrule\n",
       "\\textbf{ar.L1}  &       0.0965  &        1.211     &     0.080  &         0.936        &       -2.278    &        2.471     \\\\\n",
       "\\textbf{ar.L2}  &       0.8617  &        1.132     &     0.762  &         0.446        &       -1.356    &        3.079     \\\\\n",
       "\\textbf{ma.L1}  &       0.1899  &      337.404     &     0.001  &         1.000        &     -661.110    &      661.490     \\\\\n",
       "\\textbf{ma.L2}  &      -0.8098  &      273.143     &    -0.003  &         0.998        &     -536.159    &      534.540     \\\\\n",
       "\\textbf{sigma2} &     505.8699  &      1.7e+05     &     0.003  &         0.998        &    -3.33e+05    &     3.34e+05     \\\\\n",
       "\\bottomrule\n",
       "\\end{tabular}\n",
       "\\begin{tabular}{lclc}\n",
       "\\textbf{Ljung-Box (L1) (Q):}     &  2.33 & \\textbf{  Jarque-Bera (JB):  } & 0.50  \\\\\n",
       "\\textbf{Prob(Q):}                &  0.13 & \\textbf{  Prob(JB):          } & 0.78  \\\\\n",
       "\\textbf{Heteroskedasticity (H):} & 10.89 & \\textbf{  Skew:              } & 0.19  \\\\\n",
       "\\textbf{Prob(H) (two-sided):}    &  0.01 & \\textbf{  Kurtosis:          } & 2.35  \\\\\n",
       "\\bottomrule\n",
       "\\end{tabular}\n",
       "%\\caption{SARIMAX Results}\n",
       "\\end{center}\n",
       "\n",
       "Warnings: \\newline\n",
       " [1] Covariance matrix calculated using the outer product of gradients (complex-step)."
      ],
      "text/plain": [
       "<class 'statsmodels.iolib.summary.Summary'>\n",
       "\"\"\"\n",
       "                               SARIMAX Results                                \n",
       "==============================================================================\n",
       "Dep. Variable:              MRI_Units   No. Observations:                   22\n",
       "Model:                 ARIMA(2, 1, 2)   Log Likelihood                 -96.125\n",
       "Date:                Thu, 30 Nov 2023   AIC                            202.249\n",
       "Time:                        11:17:14   BIC                            207.472\n",
       "Sample:                             0   HQIC                           203.383\n",
       "                                 - 22                                         \n",
       "Covariance Type:                  opg                                         \n",
       "==============================================================================\n",
       "                 coef    std err          z      P>|z|      [0.025      0.975]\n",
       "------------------------------------------------------------------------------\n",
       "ar.L1          0.0965      1.211      0.080      0.936      -2.278       2.471\n",
       "ar.L2          0.8617      1.132      0.762      0.446      -1.356       3.079\n",
       "ma.L1          0.1899    337.404      0.001      1.000    -661.110     661.490\n",
       "ma.L2         -0.8098    273.143     -0.003      0.998    -536.159     534.540\n",
       "sigma2       505.8699    1.7e+05      0.003      0.998   -3.33e+05    3.34e+05\n",
       "===================================================================================\n",
       "Ljung-Box (L1) (Q):                   2.33   Jarque-Bera (JB):                 0.50\n",
       "Prob(Q):                              0.13   Prob(JB):                         0.78\n",
       "Heteroskedasticity (H):              10.89   Skew:                             0.19\n",
       "Prob(H) (two-sided):                  0.01   Kurtosis:                         2.35\n",
       "===================================================================================\n",
       "\n",
       "Warnings:\n",
       "[1] Covariance matrix calculated using the outer product of gradients (complex-step).\n",
       "\"\"\""
      ]
     },
     "execution_count": 60,
     "metadata": {},
     "output_type": "execute_result"
    }
   ],
   "source": [
    "from statsmodels.tsa.arima.model import ARIMA\n",
    "model = ARIMA(train['MRI_Units'], order=(2, 1,2))\n",
    "model = model.fit()\n",
    "model.summary()\n"
   ]
  },
  {
   "cell_type": "code",
   "execution_count": 61,
   "id": "c7b79e55",
   "metadata": {
    "execution": {
     "iopub.execute_input": "2023-11-30T11:17:14.990920Z",
     "iopub.status.busy": "2023-11-30T11:17:14.990525Z",
     "iopub.status.idle": "2023-11-30T11:17:15.342046Z",
     "shell.execute_reply": "2023-11-30T11:17:15.340512Z"
    },
    "papermill": {
     "duration": 0.39191,
     "end_time": "2023-11-30T11:17:15.344126",
     "exception": false,
     "start_time": "2023-11-30T11:17:14.952216",
     "status": "completed"
    },
    "tags": []
   },
   "outputs": [
    {
     "data": {
      "text/plain": [
       "<Axes: >"
      ]
     },
     "execution_count": 61,
     "metadata": {},
     "output_type": "execute_result"
    },
    {
     "data": {
      "image/png": "[encoded data removed]",
      "text/plain": [
       "<Figure size 640x480 with 1 Axes>"
      ]
     },
     "metadata": {},
     "output_type": "display_data"
    }
   ],
   "source": [
    "start=len(train)\n",
    "end=len(train)+len(test)-1\n",
    "pred=model.predict(start=start,end=end,typ='levels').rename('ARIMA Predictions')\n",
    "pred.plot(legend=True)\n",
    "test['MRI_Units'].plot(legend=True)"
   ]
  },
  {
   "cell_type": "code",
   "execution_count": 62,
   "id": "01c3cf37",
   "metadata": {
    "execution": {
     "iopub.execute_input": "2023-11-30T11:17:15.404624Z",
     "iopub.status.busy": "2023-11-30T11:17:15.403956Z",
     "iopub.status.idle": "2023-11-30T11:17:15.410063Z",
     "shell.execute_reply": "2023-11-30T11:17:15.409399Z"
    },
    "papermill": {
     "duration": 0.037018,
     "end_time": "2023-11-30T11:17:15.411797",
     "exception": false,
     "start_time": "2023-11-30T11:17:15.374779",
     "status": "completed"
    },
    "tags": []
   },
   "outputs": [
    {
     "name": "stdout",
     "output_type": "stream",
     "text": [
      "105.56707597348395\n"
     ]
    }
   ],
   "source": [
    "from sklearn.metrics import mean_squared_error\n",
    "from math import sqrt\n",
    "test['MRI_Units'].mean()\n",
    "rmse=sqrt(mean_squared_error(pred,test['MRI_Units']))\n",
    "print(rmse)"
   ]
  },
  {
   "cell_type": "code",
   "execution_count": 63,
   "id": "a889a5d9",
   "metadata": {
    "execution": {
     "iopub.execute_input": "2023-11-30T11:17:15.473335Z",
     "iopub.status.busy": "2023-11-30T11:17:15.472517Z",
     "iopub.status.idle": "2023-11-30T11:17:15.479340Z",
     "shell.execute_reply": "2023-11-30T11:17:15.478656Z"
    },
    "papermill": {
     "duration": 0.040657,
     "end_time": "2023-11-30T11:17:15.482339",
     "exception": false,
     "start_time": "2023-11-30T11:17:15.441682",
     "status": "completed"
    },
    "tags": []
   },
   "outputs": [
    {
     "name": "stdout",
     "output_type": "stream",
     "text": [
      "22    376.68\n",
      "23    395.99\n",
      "24    445.39\n",
      "25    403.48\n",
      "26    405.38\n",
      "27    479.58\n",
      "28    320.72\n",
      "Name: MRI_Units, dtype: float64\n"
     ]
    }
   ],
   "source": [
    "print(test['MRI_Units'])"
   ]
  },
  {
   "cell_type": "code",
   "execution_count": 64,
   "id": "b71f9e9c",
   "metadata": {
    "execution": {
     "iopub.execute_input": "2023-11-30T11:17:15.543301Z",
     "iopub.status.busy": "2023-11-30T11:17:15.542650Z",
     "iopub.status.idle": "2023-11-30T11:17:15.547571Z",
     "shell.execute_reply": "2023-11-30T11:17:15.546838Z"
    },
    "papermill": {
     "duration": 0.037584,
     "end_time": "2023-11-30T11:17:15.549316",
     "exception": false,
     "start_time": "2023-11-30T11:17:15.511732",
     "status": "completed"
    },
    "tags": []
   },
   "outputs": [
    {
     "name": "stdout",
     "output_type": "stream",
     "text": [
      "22    402.032589\n",
      "23    432.817550\n",
      "24    456.067732\n",
      "25    484.839784\n",
      "26    507.652274\n",
      "27    534.647552\n",
      "28    556.911339\n",
      "Name: ARIMA Predictions, dtype: float64\n"
     ]
    }
   ],
   "source": [
    "print(pred)"
   ]
  },
  {
   "cell_type": "code",
   "execution_count": 65,
   "id": "01f4c7eb",
   "metadata": {
    "execution": {
     "iopub.execute_input": "2023-11-30T11:17:15.610454Z",
     "iopub.status.busy": "2023-11-30T11:17:15.609664Z",
     "iopub.status.idle": "2023-11-30T11:17:16.036183Z",
     "shell.execute_reply": "2023-11-30T11:17:16.035446Z"
    },
    "papermill": {
     "duration": 0.458327,
     "end_time": "2023-11-30T11:17:16.038345",
     "exception": false,
     "start_time": "2023-11-30T11:17:15.580018",
     "status": "completed"
    },
    "tags": []
   },
   "outputs": [
    {
     "name": "stdout",
     "output_type": "stream",
     "text": [
      "<statsmodels.tsa.arima.model.ARIMAResultsWrapper object at 0x7b466561b610>\n"
     ]
    }
   ],
   "source": [
    "model2=ARIMA(df[\"MRI_Units\"],order=(2,1,2))\n",
    "model2=model2.fit()\n",
    "print(model2)"
   ]
  },
  {
   "cell_type": "code",
   "execution_count": 66,
   "id": "805f14eb",
   "metadata": {
    "execution": {
     "iopub.execute_input": "2023-11-30T11:17:16.120545Z",
     "iopub.status.busy": "2023-11-30T11:17:16.119771Z",
     "iopub.status.idle": "2023-11-30T11:17:16.240596Z",
     "shell.execute_reply": "2023-11-30T11:17:16.239854Z"
    },
    "papermill": {
     "duration": 0.164544,
     "end_time": "2023-11-30T11:17:16.243189",
     "exception": false,
     "start_time": "2023-11-30T11:17:16.078645",
     "status": "completed"
    },
    "tags": []
   },
   "outputs": [
    {
     "name": "stdout",
     "output_type": "stream",
     "text": [
      "2019-12-31    582.322601\n",
      "2020-12-31    603.960639\n",
      "2021-12-31    627.946545\n",
      "2022-12-31    648.907761\n",
      "2023-12-31    671.600097\n",
      "2024-12-31    691.853208\n",
      "2025-12-31    713.362513\n",
      "2026-12-31    732.891230\n",
      "2027-12-31    753.311184\n",
      "2028-12-31    772.110520\n",
      "2029-12-31    791.521362\n",
      "2030-12-31    809.594765\n",
      "2031-12-31    828.065972\n",
      "2032-12-31    845.423121\n",
      "2033-12-31    863.015495\n",
      "2034-12-31    879.670600\n",
      "2035-12-31    896.437906\n",
      "2036-12-31    912.408404\n",
      "2037-12-31    928.398654\n",
      "2038-12-31    943.704204\n",
      "2039-12-31    958.960669\n",
      "2040-12-31    973.622391\n",
      "Freq: A-DEC, Name: ARIMA Predictions till 2040, dtype: float64\n"
     ]
    }
   ],
   "source": [
    "import statsmodels.api as sm\n",
    "from statsmodels.tsa.arima.model import ARIMA\n",
    "\n",
    "model = ARIMA(train['MRI_Units'], order=(2,1,2))\n",
    "model = model.fit()\n",
    "index_future_dates = pd.date_range(start='2019', periods=22, freq='Y')\n",
    "\n",
    "pred = model.get_prediction(start=len(mri_units), end=len(mri_units) + 21, dynamic=False)\n",
    "pred_conf = pred.conf_int()\n",
    "\n",
    "pred_values = pred.predicted_mean.rename('ARIMA Predictions till 2040')\n",
    "\n",
    "pred_values.index = index_future_dates\n",
    "print(pred_values)"
   ]
  },
  {
   "cell_type": "code",
   "execution_count": 67,
   "id": "b95c61be",
   "metadata": {
    "execution": {
     "iopub.execute_input": "2023-11-30T11:17:16.325842Z",
     "iopub.status.busy": "2023-11-30T11:17:16.325008Z",
     "iopub.status.idle": "2023-11-30T11:17:16.861854Z",
     "shell.execute_reply": "2023-11-30T11:17:16.860721Z"
    },
    "papermill": {
     "duration": 0.58027,
     "end_time": "2023-11-30T11:17:16.863978",
     "exception": false,
     "start_time": "2023-11-30T11:17:16.283708",
     "status": "completed"
    },
    "tags": []
   },
   "outputs": [
    {
     "data": {
      "text/plain": [
       "<Axes: >"
      ]
     },
     "execution_count": 67,
     "metadata": {},
     "output_type": "execute_result"
    },
    {
     "data": {
      "image/png": "[encoded data removed]",
      "text/plain": [
       "<Figure size 1200x500 with 1 Axes>"
      ]
     },
     "metadata": {},
     "output_type": "display_data"
    }
   ],
   "source": [
    "pred_values.plot(figsize=(12,5),legend=True)"
   ]
  }
 ],
 "metadata": {
  "kaggle": {
   "accelerator": "none",
   "dataSources": [
    {
     "datasetId": 1034839,
     "sourceId": 1771228,
     "sourceType": "datasetVersion"
    }
   ],
   "dockerImageVersionId": 30558,
   "isGpuEnabled": false,
   "isInternetEnabled": true,
   "language": "python",
   "sourceType": "notebook"
  },
  "kernelspec": {
   "display_name": "Python 3",
   "language": "python",
   "name": "python3"
  },
  "language_info": {
   "codemirror_mode": {
    "name": "ipython",
    "version": 3
   },
   "file_extension": ".py",
   "mimetype": "text/x-python",
   "name": "python",
   "nbconvert_exporter": "python",
   "pygments_lexer": "ipython3",
   "version": "3.10.12"
  },
  "papermill": {
   "default_parameters": {},
   "duration": 88.542427,
   "end_time": "2023-11-30T11:17:17.818770",
   "environment_variables": {},
   "exception": null,
   "input_path": "__notebook__.ipynb",
   "output_path": "__notebook__.ipynb",
   "parameters": {},
   "start_time": "2023-11-30T11:15:49.276343",
   "version": "2.4.0"
  }
 },
 "nbformat": 4,
 "nbformat_minor": 5
}
